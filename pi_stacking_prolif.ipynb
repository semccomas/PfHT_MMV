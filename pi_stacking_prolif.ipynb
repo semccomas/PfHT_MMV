{
 "cells": [
  {
   "attachments": {},
   "cell_type": "markdown",
   "id": "9941fd5e",
   "metadata": {},
   "source": [
    "obs if you are running this in vscode, you need to select python environment as prolif, and then select the prolif environment as your kernel too "
   ]
  },
  {
   "cell_type": "code",
   "execution_count": 1,
   "id": "f7ff931c",
   "metadata": {},
   "outputs": [],
   "source": [
    "import numpy as np\n",
    "import matplotlib.pyplot as plt\n",
    "import prolif as plf\n",
    "import MDAnalysis as mda\n",
    "import pandas as pd\n",
    "import analysis_functions"
   ]
  },
  {
   "attachments": {},
   "cell_type": "markdown",
   "id": "24a6fa82",
   "metadata": {},
   "source": [
    "# Load unis using analysis scripts"
   ]
  },
  {
   "cell_type": "code",
   "execution_count": 15,
   "id": "01643517",
   "metadata": {},
   "outputs": [],
   "source": [
    "all_unis, all_lens = analysis_functions.load_EM_unis()"
   ]
  },
  {
   "attachments": {},
   "cell_type": "markdown",
   "id": "07a50bf4",
   "metadata": {},
   "source": [
    "# Run fp , save df, put in dict\n",
    "\n",
    "If you don't change anything here you could turn this calculation to false to save time. Right now I have skip50 on to make the calculation smoother"
   ]
  },
  {
   "cell_type": "code",
   "execution_count": 71,
   "id": "5305d85e",
   "metadata": {},
   "outputs": [
    {
     "data": {
      "application/vnd.jupyter.widget-view+json": {
       "model_id": "0e2b0dc28f654af79d6a386585331508",
       "version_major": 2,
       "version_minor": 0
      },
      "text/plain": [
       "  0%|          | 0/21 [00:00<?, ?it/s]"
      ]
     },
     "metadata": {},
     "output_type": "display_data"
    },
    {
     "data": {
      "application/vnd.jupyter.widget-view+json": {
       "model_id": "0fd27fae9c8c4f1398a0ffd627f07bde",
       "version_major": 2,
       "version_minor": 0
      },
      "text/plain": [
       "  0%|          | 0/21 [00:00<?, ?it/s]"
      ]
     },
     "metadata": {},
     "output_type": "display_data"
    },
    {
     "data": {
      "application/vnd.jupyter.widget-view+json": {
       "model_id": "5cc74101599b4d42ab6af31778114585",
       "version_major": 2,
       "version_minor": 0
      },
      "text/plain": [
       "  0%|          | 0/21 [00:00<?, ?it/s]"
      ]
     },
     "metadata": {},
     "output_type": "display_data"
    },
    {
     "data": {
      "application/vnd.jupyter.widget-view+json": {
       "model_id": "3095cb3714a542c0abaf5ce572ecaa0b",
       "version_major": 2,
       "version_minor": 0
      },
      "text/plain": [
       "  0%|          | 0/20 [00:00<?, ?it/s]"
      ]
     },
     "metadata": {},
     "output_type": "display_data"
    },
    {
     "data": {
      "application/vnd.jupyter.widget-view+json": {
       "model_id": "a20d5183873a4fe7832124bfa9551170",
       "version_major": 2,
       "version_minor": 0
      },
      "text/plain": [
       "  0%|          | 0/21 [00:00<?, ?it/s]"
      ]
     },
     "metadata": {},
     "output_type": "display_data"
    },
    {
     "data": {
      "application/vnd.jupyter.widget-view+json": {
       "model_id": "61a618be2e9a4797981297f30d8e956e",
       "version_major": 2,
       "version_minor": 0
      },
      "text/plain": [
       "  0%|          | 0/18 [00:00<?, ?it/s]"
      ]
     },
     "metadata": {},
     "output_type": "display_data"
    },
    {
     "data": {
      "application/vnd.jupyter.widget-view+json": {
       "model_id": "4649af5a901b4782aa8035b0ede771f1",
       "version_major": 2,
       "version_minor": 0
      },
      "text/plain": [
       "  0%|          | 0/18 [00:00<?, ?it/s]"
      ]
     },
     "metadata": {},
     "output_type": "display_data"
    },
    {
     "data": {
      "application/vnd.jupyter.widget-view+json": {
       "model_id": "5f667471d8a44203b189e6f768dccfc0",
       "version_major": 2,
       "version_minor": 0
      },
      "text/plain": [
       "  0%|          | 0/18 [00:00<?, ?it/s]"
      ]
     },
     "metadata": {},
     "output_type": "display_data"
    },
    {
     "data": {
      "application/vnd.jupyter.widget-view+json": {
       "model_id": "cfc56de7db6d496196347859915a6b1f",
       "version_major": 2,
       "version_minor": 0
      },
      "text/plain": [
       "  0%|          | 0/18 [00:00<?, ?it/s]"
      ]
     },
     "metadata": {},
     "output_type": "display_data"
    },
    {
     "data": {
      "application/vnd.jupyter.widget-view+json": {
       "model_id": "60b84ccafb3b43219a2746f50bf7df00",
       "version_major": 2,
       "version_minor": 0
      },
      "text/plain": [
       "  0%|          | 0/19 [00:00<?, ?it/s]"
      ]
     },
     "metadata": {},
     "output_type": "display_data"
    },
    {
     "data": {
      "application/vnd.jupyter.widget-view+json": {
       "model_id": "f88f79a8ccbf4d49ab79dc9cdb36a2a0",
       "version_major": 2,
       "version_minor": 0
      },
      "text/plain": [
       "  0%|          | 0/18 [00:00<?, ?it/s]"
      ]
     },
     "metadata": {},
     "output_type": "display_data"
    },
    {
     "data": {
      "application/vnd.jupyter.widget-view+json": {
       "model_id": "e1527f4f387b41448a9eede7897842e9",
       "version_major": 2,
       "version_minor": 0
      },
      "text/plain": [
       "  0%|          | 0/18 [00:00<?, ?it/s]"
      ]
     },
     "metadata": {},
     "output_type": "display_data"
    },
    {
     "data": {
      "text/plain": [
       "[]"
      ]
     },
     "execution_count": 71,
     "metadata": {},
     "output_type": "execute_result"
    }
   ],
   "source": [
    "all_fp_dfs = {}\n",
    "\n",
    "for condition in all_unis.keys():\n",
    "    # print(condition)\n",
    "    temp_fp_dfs = []\n",
    "    for n, replica in enumerate(all_unis[condition]):\n",
    "        if (\n",
    "            condition != \"PfHT_apo\"\n",
    "        ):  ## no need to run fingerprints on sim that doesn't have mmv...\n",
    "            df = analysis_functions.get_fp_dataframe(\n",
    "                u=replica,\n",
    "                skip=50,\n",
    "                run_calc=True,\n",
    "                filename=f\"{condition}.replica_{n+1}.skip50\",\n",
    "            )\n",
    "            temp_fp_dfs.append(df)\n",
    "    all_fp_dfs[condition] = temp_fp_dfs\n",
    "all_fp_dfs.pop(\"PfHT_apo\")  ## probably a better way to remove this guy, but that's ok"
   ]
  },
  {
   "attachments": {},
   "cell_type": "markdown",
   "id": "209a919b",
   "metadata": {},
   "source": [
    "# Calculate percentage of pi stacking. \n",
    "Just find where TRP412 (or equivalent) is in the dataframe, then divide sum (since only True or False) by total sim length\n",
    "\n",
    "\n",
    "save in numpy array called `all_pis` with shape (`[n_conditions], [n_replicas]`)"
   ]
  },
  {
   "cell_type": "code",
   "execution_count": 75,
   "id": "27e73cc7",
   "metadata": {},
   "outputs": [],
   "source": [
    "all_pis = np.zeros((4, 3))\n",
    "\n",
    "\n",
    "for n_cond, condition in enumerate(all_fp_dfs.keys()):\n",
    "    for n_rep, replica in enumerate(all_fp_dfs[condition]):\n",
    "        if \"GLUT1\" not in condition and \"W412A\" not in condition:\n",
    "            try:\n",
    "                percent_pi = (replica[\"TRP391\"][\"PiStacking\"].sum()) / len(replica)\n",
    "            except KeyError:  # if there is never pi stacking, won't find it in the df\n",
    "                percent_pi = 0\n",
    "\n",
    "        elif \"GLUT1\" in condition:\n",
    "            try:\n",
    "                percent_pi = (replica[\"TRP381\"][\"PiStacking\"].sum()) / len(replica)\n",
    "            except KeyError:  # if there is never pi stacking, won't find it in the df\n",
    "                percent_pi = 0\n",
    "\n",
    "        elif \"W412A\" in condition:\n",
    "            percent_pi = 0\n",
    "\n",
    "        all_pis[n_cond, n_rep] = percent_pi"
   ]
  },
  {
   "attachments": {},
   "cell_type": "markdown",
   "id": "a74fc42c",
   "metadata": {},
   "source": [
    "plot grouped barplot"
   ]
  },
  {
   "cell_type": "code",
   "execution_count": 91,
   "id": "b1b87db6",
   "metadata": {},
   "outputs": [
    {
     "data": {
      "text/plain": [
       "<matplotlib.legend.Legend at 0x7f99a212b6a0>"
      ]
     },
     "execution_count": 91,
     "metadata": {},
     "output_type": "execute_result"
    },
    {
     "data": {
      "image/png": "[encoded data removed]",
      "text/plain": [
       "<Figure size 640x480 with 1 Axes>"
      ]
     },
     "metadata": {},
     "output_type": "display_data"
    }
   ],
   "source": [
    "x = np.arange(np.shape(all_pis)[0])\n",
    "width = 0.2\n",
    "plt.bar(x - 0.2, all_pis[:, 0], width, color=\"cyan\")\n",
    "plt.bar(x, all_pis[:, 1], width, color=\"orange\")\n",
    "plt.bar(x + 0.2, all_pis[:, 2], width, color=\"red\")\n",
    "\n",
    "plt.xticks(x, all_fp_dfs.keys())\n",
    "plt.xlabel(\"Condition\")\n",
    "plt.ylabel(\"Percent TRP pi stacking in sim\")\n",
    "plt.legend([\"Rep 1\", \"Rep 2\", \"Rep 3\"])"
   ]
  },
  {
   "cell_type": "code",
   "execution_count": 83,
   "id": "24db15a0",
   "metadata": {},
   "outputs": [
    {
     "data": {
      "text/plain": [
       "array([[0.85714286, 0.42857143, 0.61904762],\n",
       "       [0.        , 0.        , 0.        ],\n",
       "       [0.16666667, 0.05555556, 0.05555556],\n",
       "       [0.10526316, 0.5       , 0.        ]])"
      ]
     },
     "execution_count": 83,
     "metadata": {},
     "output_type": "execute_result"
    }
   ],
   "source": [
    "all_pis"
   ]
  },
  {
   "cell_type": "code",
   "execution_count": null,
   "id": "522b6445",
   "metadata": {},
   "outputs": [],
   "source": []
  }
 ],
 "metadata": {
  "kernelspec": {
   "display_name": "Python 3 (ipykernel)",
   "language": "python",
   "name": "python3"
  },
  "language_info": {
   "codemirror_mode": {
    "name": "ipython",
    "version": 3
   },
   "file_extension": ".py",
   "mimetype": "text/x-python",
   "name": "python",
   "nbconvert_exporter": "python",
   "pygments_lexer": "ipython3",
   "version": "3.9.16"
  }
 },
 "nbformat": 4,
 "nbformat_minor": 5
}
