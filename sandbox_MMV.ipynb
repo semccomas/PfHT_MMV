{
 "cells": [
  {
   "attachments": {},
   "cell_type": "markdown",
   "metadata": {},
   "source": [
    "# more prolif sandboxing"
   ]
  },
  {
   "cell_type": "code",
   "execution_count": 1,
   "metadata": {},
   "outputs": [],
   "source": [
    "import prolif as plf\n",
    "import numpy as np\n",
    "import analysis_functions\n",
    "import pandas as pd\n",
    "\n",
    "\n",
    "import networkx as nx\n",
    "from pyvis.network import Network\n",
    "from matplotlib import cm, colors\n",
    "from IPython.display import IFrame"
   ]
  },
  {
   "cell_type": "code",
   "execution_count": 2,
   "metadata": {},
   "outputs": [],
   "source": [
    "all_unis, all_lens = analysis_functions.load_em_unis()"
   ]
  },
  {
   "cell_type": "code",
   "execution_count": 3,
   "metadata": {},
   "outputs": [],
   "source": [
    "u = all_unis['PfHT_MMV12'][0]\n",
    "lig = u.select_atoms('resname MMV')\n",
    "prot = u.select_atoms('protein')"
   ]
  },
  {
   "attachments": {},
   "cell_type": "markdown",
   "metadata": {},
   "source": []
  },
  {
   "cell_type": "code",
   "execution_count": 4,
   "metadata": {},
   "outputs": [
    {
     "data": {
      "text/plain": [
       "[]"
      ]
     },
     "execution_count": 4,
     "metadata": {},
     "output_type": "execute_result"
    }
   ],
   "source": [
    "all_fp_dfs = {}\n",
    "skip = 1\n",
    "\n",
    "for condition in all_unis.keys():\n",
    "    # print(condition)\n",
    "    temp_fp_dfs = []\n",
    "    for n, rep_fp in enumerate(all_unis[condition]):\n",
    "        if (\n",
    "            condition != \"PfHT_apo\"\n",
    "        ):  ## no need to run fingerprints on sim that doesn't have mmv...\n",
    "            df = analysis_functions.get_fp_dataframe(\n",
    "                u=rep_fp,\n",
    "                skip=skip,\n",
    "                run_calc=False,\n",
    "                filename=f\"{condition}.replica_{n+1}.skip{skip}\",\n",
    "            )\n",
    "            temp_fp_dfs.append(df)\n",
    "    all_fp_dfs[condition] = temp_fp_dfs\n",
    "all_fp_dfs.pop(\"PfHT_apo\")  ## probably a better way to remove this guy, but that's ok"
   ]
  },
  {
   "cell_type": "code",
   "execution_count": 6,
   "metadata": {},
   "outputs": [],
   "source": [
    "def make_graph(\n",
    "    values,\n",
    "    df=None,\n",
    "    node_color=[\"#FFB2AC\", \"#ACD0FF\"],\n",
    "    node_shape=\"dot\",\n",
    "    edge_color=\"#a9a9a9\",\n",
    "    width_multiplier=1,\n",
    "):\n",
    "    \"\"\"Convert a pandas DataFrame to a NetworkX object\n",
    "\n",
    "    Parameters\n",
    "    ----------\n",
    "    values : pandas.Series\n",
    "        Series with 'ligand' and 'protein' levels, and a unique value for\n",
    "        each lig-prot residue pair that will be used to set the width and weigth\n",
    "        of each edge. For example:\n",
    "\n",
    "            ligand  protein\n",
    "            LIG1.G  ALA216.A    0.66\n",
    "                    ALA343.B    0.10\n",
    "\n",
    "    df : pandas.DataFrame\n",
    "        DataFrame obtained from the fp.to_dataframe() method\n",
    "        Used to label each edge with the type of interaction\n",
    "\n",
    "    node_color : list\n",
    "        Colors for the ligand and protein residues, respectively\n",
    "\n",
    "    node_shape : str\n",
    "        One of ellipse, circle, database, box, text or image, circularImage,\n",
    "        diamond, dot, star, triangle, triangleDown, square, icon.\n",
    "\n",
    "    edge_color : str\n",
    "        Color of the edge between nodes\n",
    "\n",
    "    width_multiplier : int or float\n",
    "        Each edge's width is defined as `width_multiplier * value`\n",
    "    \"\"\"\n",
    "    lig_res = values.index.get_level_values(\"ligand\").unique().tolist()\n",
    "    prot_res = values.index.get_level_values(\"protein\").unique().tolist()\n",
    "\n",
    "    G = nx.Graph()\n",
    "    # add nodes\n",
    "    # https://pyvis.readthedocs.io/en/latest/documentation.html#pyvis.network.Network.add_node\n",
    "    for res in lig_res:\n",
    "        G.add_node(\n",
    "            res, title=res, shape=node_shape, color=node_color[0], dtype=\"ligand\"\n",
    "        )\n",
    "    for res in prot_res:\n",
    "        G.add_node(\n",
    "            res, title=res, shape=node_shape, color=node_color[1], dtype=\"protein\"\n",
    "        )\n",
    "\n",
    "    for resids, value in values.items():\n",
    "        label = \"{} - {}<br>{}\".format(\n",
    "            *resids,\n",
    "            \"<br>\".join(\n",
    "                [\n",
    "                    f\"{k}: {v}\"\n",
    "                    for k, v in (\n",
    "                        df.xs(resids, level=[\"ligand\", \"protein\"], axis=1)\n",
    "                        .sum()\n",
    "                        .to_dict()\n",
    "                        .items()\n",
    "                    )\n",
    "                ]\n",
    "            ),\n",
    "        )\n",
    "        # https://pyvis.readthedocs.io/en/latest/documentation.html#pyvis.network.Network.add_edge\n",
    "        G.add_edge(\n",
    "            *resids,\n",
    "            title=label,\n",
    "            color=edge_color,\n",
    "            weight=value,\n",
    "            width=value * width_multiplier,\n",
    "        )\n",
    "\n",
    "    return G"
   ]
  },
  {
   "cell_type": "code",
   "execution_count": 7,
   "metadata": {},
   "outputs": [],
   "source": [
    "import matplotlib.pyplot as plt"
   ]
  },
  {
   "cell_type": "code",
   "execution_count": 8,
   "metadata": {},
   "outputs": [],
   "source": [
    "df = all_fp_dfs[\"PfHT_MMV12\"][0]\n",
    "df = pd.concat([df], keys=['MMV'], names=['ligand'],axis=1)"
   ]
  },
  {
   "cell_type": "code",
   "execution_count": 66,
   "metadata": {},
   "outputs": [
    {
     "data": {
      "image/png": "[encoded data removed]",
      "text/plain": [
       "<Figure size 640x480 with 1 Axes>"
      ]
     },
     "metadata": {},
     "output_type": "display_data"
    }
   ],
   "source": [
    "data = df.xs(\"HBAcceptor\", level=\"interaction\", axis=1).mean()\n",
    "\n",
    "G = make_graph(data, df, width_multiplier=3)\n",
    "\n",
    "\n",
    "weights = {}\n",
    "for n,edge in enumerate(G.edges):\n",
    "    weights[edge[1]] = list(G.edges(data=True))[n][2]['weight']\n",
    "\n",
    "node_sizes = [100]\n",
    "node_sizes.extend(np.array(list(weights.values()))*400)\n",
    "# display graph\n",
    "net = Network(width=600, height=500, notebook=True, heading=\"\")\n",
    "nx.draw(G, with_labels=True, node_size=node_sizes)\n",
    "\n",
    "\n",
    "\n",
    "\n",
    "\n",
    "### for HTML viz\n",
    "#net.from_nx(G)\n",
    "#net.write_html(\"lig-prot_hydrophobic_graph.html\")\n",
    "#IFrame(\"lig-prot_hydrophobic_graph.html\", width=610, height=510, cdn_resources='remote')"
   ]
  },
  {
   "cell_type": "code",
   "execution_count": 52,
   "metadata": {},
   "outputs": [
    {
     "data": {
      "text/plain": [
       "[4, 3]"
      ]
     },
     "execution_count": 52,
     "metadata": {},
     "output_type": "execute_result"
    }
   ],
   "source": []
  },
  {
   "cell_type": "code",
   "execution_count": 36,
   "metadata": {},
   "outputs": [
    {
     "data": {
      "text/plain": [
       "{'GLN148': 0.9180819180819181,\n",
       " 'SER281': 0.003996003996003996,\n",
       " 'GLN284': 0.058941058941058944,\n",
       " 'GLN285': 0.0899100899100899,\n",
       " 'ASN290': 0.02197802197802198,\n",
       " 'TRP391': 0.015984015984015984,\n",
       " 'HSD395': 0.011988011988011988,\n",
       " 'LYS403': 0.002997002997002997,\n",
       " 'SER408': 0.002997002997002997,\n",
       " 'SER411': 0.8011988011988012,\n",
       " 'ASN414': 0.015984015984015984}"
      ]
     },
     "execution_count": 36,
     "metadata": {},
     "output_type": "execute_result"
    }
   ],
   "source": [
    "weights"
   ]
  },
  {
   "cell_type": "code",
   "execution_count": 25,
   "metadata": {},
   "outputs": [],
   "source": [
    "from prolif.plotting.network import LigNetwork\n",
    "\n",
    "lmol = plf.Molecule.from_mda(lig)\n"
   ]
  },
  {
   "cell_type": "code",
   "execution_count": 31,
   "metadata": {},
   "outputs": [
    {
     "ename": "KeyError",
     "evalue": "'Requested level (interaction) does not match index name (Frame)'",
     "output_type": "error",
     "traceback": [
      "\u001b[0;31m---------------------------------------------------------------------------\u001b[0m",
      "\u001b[0;31mKeyError\u001b[0m                                  Traceback (most recent call last)",
      "\u001b[0;32m/tmp/ipykernel_571403/1731503790.py\u001b[0m in \u001b[0;36m<module>\u001b[0;34m\u001b[0m\n\u001b[0;32m----> 1\u001b[0;31m \u001b[0mLigNetwork\u001b[0m\u001b[0;34m(\u001b[0m\u001b[0mdf\u001b[0m\u001b[0;34m=\u001b[0m\u001b[0mdf2\u001b[0m\u001b[0;34m,\u001b[0m \u001b[0mlig_mol\u001b[0m\u001b[0;34m=\u001b[0m\u001b[0mlmol\u001b[0m\u001b[0;34m,\u001b[0m\u001b[0;34m)\u001b[0m\u001b[0;34m\u001b[0m\u001b[0;34m\u001b[0m\u001b[0m\n\u001b[0m",
      "\u001b[0;32m~/anaconda3/envs/prolif/lib/python3.9/site-packages/prolif/plotting/network.py\u001b[0m in \u001b[0;36m__init__\u001b[0;34m(self, df, lig_mol, match3D, kekulize, molsize, rotation, carbon)\u001b[0m\n\u001b[1;32m    246\u001b[0m         \u001b[0;31m# regroup interactions of the same color\u001b[0m\u001b[0;34m\u001b[0m\u001b[0;34m\u001b[0m\u001b[0m\n\u001b[1;32m    247\u001b[0m         \u001b[0mtemp\u001b[0m \u001b[0;34m=\u001b[0m \u001b[0mdefaultdict\u001b[0m\u001b[0;34m(\u001b[0m\u001b[0mlist\u001b[0m\u001b[0;34m)\u001b[0m\u001b[0;34m\u001b[0m\u001b[0;34m\u001b[0m\u001b[0m\n\u001b[0;32m--> 248\u001b[0;31m         \u001b[0minteractions\u001b[0m \u001b[0;34m=\u001b[0m \u001b[0mset\u001b[0m\u001b[0;34m(\u001b[0m\u001b[0mdf\u001b[0m\u001b[0;34m.\u001b[0m\u001b[0mindex\u001b[0m\u001b[0;34m.\u001b[0m\u001b[0mget_level_values\u001b[0m\u001b[0;34m(\u001b[0m\u001b[0;34m\"interaction\"\u001b[0m\u001b[0;34m)\u001b[0m\u001b[0;34m.\u001b[0m\u001b[0munique\u001b[0m\u001b[0;34m(\u001b[0m\u001b[0;34m)\u001b[0m\u001b[0;34m)\u001b[0m\u001b[0;34m\u001b[0m\u001b[0;34m\u001b[0m\u001b[0m\n\u001b[0m\u001b[1;32m    249\u001b[0m         \u001b[0;32mfor\u001b[0m \u001b[0minteraction\u001b[0m \u001b[0;32min\u001b[0m \u001b[0minteractions\u001b[0m\u001b[0;34m:\u001b[0m\u001b[0;34m\u001b[0m\u001b[0;34m\u001b[0m\u001b[0m\n\u001b[1;32m    250\u001b[0m             color = self.COLORS[\"interactions\"].get(\n",
      "\u001b[0;32m~/anaconda3/envs/prolif/lib/python3.9/site-packages/pandas/core/indexes/base.py\u001b[0m in \u001b[0;36m_get_level_values\u001b[0;34m(self, level)\u001b[0m\n\u001b[1;32m   1987\u001b[0m         \u001b[0mIndex\u001b[0m\u001b[0;34m(\u001b[0m\u001b[0;34m[\u001b[0m\u001b[0;34m'a'\u001b[0m\u001b[0;34m,\u001b[0m \u001b[0;34m'b'\u001b[0m\u001b[0;34m,\u001b[0m \u001b[0;34m'c'\u001b[0m\u001b[0;34m]\u001b[0m\u001b[0;34m,\u001b[0m \u001b[0mdtype\u001b[0m\u001b[0;34m=\u001b[0m\u001b[0;34m'object'\u001b[0m\u001b[0;34m)\u001b[0m\u001b[0;34m\u001b[0m\u001b[0;34m\u001b[0m\u001b[0m\n\u001b[1;32m   1988\u001b[0m         \"\"\"\n\u001b[0;32m-> 1989\u001b[0;31m         \u001b[0mself\u001b[0m\u001b[0;34m.\u001b[0m\u001b[0m_validate_index_level\u001b[0m\u001b[0;34m(\u001b[0m\u001b[0mlevel\u001b[0m\u001b[0;34m)\u001b[0m\u001b[0;34m\u001b[0m\u001b[0;34m\u001b[0m\u001b[0m\n\u001b[0m\u001b[1;32m   1990\u001b[0m         \u001b[0;32mreturn\u001b[0m \u001b[0mself\u001b[0m\u001b[0;34m\u001b[0m\u001b[0;34m\u001b[0m\u001b[0m\n\u001b[1;32m   1991\u001b[0m \u001b[0;34m\u001b[0m\u001b[0m\n",
      "\u001b[0;32m~/anaconda3/envs/prolif/lib/python3.9/site-packages/pandas/core/indexes/base.py\u001b[0m in \u001b[0;36m_validate_index_level\u001b[0;34m(self, level)\u001b[0m\n\u001b[1;32m   1908\u001b[0m                 )\n\u001b[1;32m   1909\u001b[0m         \u001b[0;32melif\u001b[0m \u001b[0mlevel\u001b[0m \u001b[0;34m!=\u001b[0m \u001b[0mself\u001b[0m\u001b[0;34m.\u001b[0m\u001b[0mname\u001b[0m\u001b[0;34m:\u001b[0m\u001b[0;34m\u001b[0m\u001b[0;34m\u001b[0m\u001b[0m\n\u001b[0;32m-> 1910\u001b[0;31m             raise KeyError(\n\u001b[0m\u001b[1;32m   1911\u001b[0m                 \u001b[0;34mf\"Requested level ({level}) does not match index name ({self.name})\"\u001b[0m\u001b[0;34m\u001b[0m\u001b[0;34m\u001b[0m\u001b[0m\n\u001b[1;32m   1912\u001b[0m             )\n",
      "\u001b[0;31mKeyError\u001b[0m: 'Requested level (interaction) does not match index name (Frame)'"
     ]
    }
   ],
   "source": [
    "LigNetwork(df=df2, lig_mol=lmol,)"
   ]
  },
  {
   "cell_type": "code",
   "execution_count": 30,
   "metadata": {},
   "outputs": [],
   "source": [
    "df2 = df.droplevel(\"ligand\", axis=1)\n"
   ]
  },
  {
   "cell_type": "code",
   "execution_count": 33,
   "metadata": {},
   "outputs": [
    {
     "name": "stdout",
     "output_type": "stream",
     "text": [
      "Help on class LigNetwork in module prolif.plotting.network:\n",
      "\n",
      "class LigNetwork(builtins.object)\n",
      " |  LigNetwork(df, lig_mol, match3D=True, kekulize=False, molsize=35, rotation=0, carbon=0.16)\n",
      " |  \n",
      " |  Creates a ligand interaction diagram\n",
      " |  \n",
      " |  Parameters\n",
      " |  ----------\n",
      " |  df : pandas.DataFrame\n",
      " |      Dataframe with a 4-level index (ligand, protein, interaction, atom)\n",
      " |      and a weight column for values\n",
      " |  lig_mol : rdkit.Chem.rdChem.Mol\n",
      " |      Ligand molecule\n",
      " |  match3D : bool\n",
      " |      If ``True``, generates 2D coordines that are constrained to fit the\n",
      " |      3D conformation of the ligand as best as possible. Else, generate 2D\n",
      " |      coordinates from scratch\n",
      " |  kekulize : bool\n",
      " |      Kekulize the ligand\n",
      " |  molsize : int\n",
      " |      Multiply the coordinates by this number to create a bigger and\n",
      " |      more readable depiction\n",
      " |  rotation : int\n",
      " |      Rotate the structure on the XY plane\n",
      " |  carbon : float\n",
      " |      Size of the carbon atom dots on the depiction. Use `0` to hide the\n",
      " |      carbon dots\n",
      " |  \n",
      " |  Attributes\n",
      " |  ----------\n",
      " |  COLORS : dict\n",
      " |      Dictionnary of colors used in the diagram. Subdivided in several\n",
      " |      dictionaries:\n",
      " |  \n",
      " |      - \"interactions\": mapping between interactions types and colors\n",
      " |      - \"atoms\": mapping between atom symbol and colors\n",
      " |      - \"residues\": mapping between residues types and colors\n",
      " |  \n",
      " |  RESIDUE_TYPES : dict\n",
      " |      Mapping between residue names (3 letter code) and types. The types\n",
      " |      are then used to define how each residue should be colored.\n",
      " |  \n",
      " |  Notes\n",
      " |  -----\n",
      " |  You can customize the diagram by tweaking :attr:`LigNetwork.COLORS` and\n",
      " |  :attr:`LigNetwork.RESIDUE_TYPES` by adding or modifying the\n",
      " |  dictionaries inplace.\n",
      " |  \n",
      " |  Methods defined here:\n",
      " |  \n",
      " |  __init__(self, df, lig_mol, match3D=True, kekulize=False, molsize=35, rotation=0, carbon=0.16)\n",
      " |      Initialize self.  See help(type(self)) for accurate signature.\n",
      " |  \n",
      " |  display(self, **kwargs)\n",
      " |      Prepare and display the network\n",
      " |  \n",
      " |  save(self, fp, **kwargs)\n",
      " |      Save the network to an HTML file\n",
      " |      \n",
      " |      Parameters\n",
      " |      ----------\n",
      " |      fp : str or file-like object\n",
      " |          Name of the output file, or file-like object\n",
      " |  \n",
      " |  show(self, filename, **kwargs)\n",
      " |      Save the network as HTML and display the resulting file\n",
      " |  \n",
      " |  ----------------------------------------------------------------------\n",
      " |  Class methods defined here:\n",
      " |  \n",
      " |  from_ifp(ifp, lig, kind='aggregate', frame=0, threshold=0.3, **kwargs) from builtins.type\n",
      " |      Helper method to create a ligand interaction diagram from an IFP\n",
      " |      DataFrame obtained with ``fp.to_dataframe(return_atoms=True)``\n",
      " |      \n",
      " |      Notes\n",
      " |      -----\n",
      " |      Two kinds of diagrams can be rendered: either for a designated frame or\n",
      " |      by aggregating the results on the whole IFP and optionnally discarding\n",
      " |      interactions that occur less frequently than a threshold. In the latter\n",
      " |      case (aggregate), only the most frequent ligand atom interaction is\n",
      " |      rendered.\n",
      " |      \n",
      " |      Parameters\n",
      " |      ----------\n",
      " |      ifp : pandas.DataFrame\n",
      " |          The result of ``fp.to_dataframe(return_atoms=True)``\n",
      " |      lig : rdkit.Chem.rdChem.Mol\n",
      " |          Ligand molecule\n",
      " |      kind : str\n",
      " |          One of \"aggregate\" or \"frame\"\n",
      " |      frame : int or str\n",
      " |          Frame number, as read in ``ifp.index``. Only applicable for\n",
      " |          ``kind=\"frame\"``\n",
      " |      threshold : float\n",
      " |          Frequency threshold, between 0 and 1. Only applicable for\n",
      " |          ``kind=\"aggregate\"``\n",
      " |      kwargs : object\n",
      " |          Other arguments passed to the :class:`LigNetwork` class\n",
      " |  \n",
      " |  ----------------------------------------------------------------------\n",
      " |  Data descriptors defined here:\n",
      " |  \n",
      " |  __dict__\n",
      " |      dictionary for instance variables (if defined)\n",
      " |  \n",
      " |  __weakref__\n",
      " |      list of weak references to the object (if defined)\n",
      " |  \n",
      " |  ----------------------------------------------------------------------\n",
      " |  Data and other attributes defined here:\n",
      " |  \n",
      " |  COLORS = {'atoms': {'Br': 'lime', 'C': 'black', 'Cl': 'lime', 'F': 'li...\n",
      " |  \n",
      " |  RESIDUE_TYPES = {'ALA': 'Aliphatic', 'ARG': 'Basic', 'ASN': 'Polar', '...\n",
      "\n"
     ]
    }
   ],
   "source": [
    "help(LigNetwork)"
   ]
  },
  {
   "cell_type": "code",
   "execution_count": 35,
   "metadata": {},
   "outputs": [
    {
     "data": {
      "image/png": "[encoded data removed]",
      "text/plain": [
       "<prolif.molecule.Molecule with 1 residues and 55 atoms at 0x7fc2e0901ef0>"
      ]
     },
     "execution_count": 35,
     "metadata": {},
     "output_type": "execute_result"
    }
   ],
   "source": [
    "lmol"
   ]
  },
  {
   "cell_type": "code",
   "execution_count": null,
   "metadata": {},
   "outputs": [],
   "source": []
  }
 ],
 "metadata": {
  "kernelspec": {
   "display_name": "Python 3 (ipykernel)",
   "language": "python",
   "name": "python3"
  },
  "language_info": {
   "codemirror_mode": {
    "name": "ipython",
    "version": 3
   },
   "file_extension": ".py",
   "mimetype": "text/x-python",
   "name": "python",
   "nbconvert_exporter": "python",
   "pygments_lexer": "ipython3",
   "version": "3.9.16"
  }
 },
 "nbformat": 4,
 "nbformat_minor": 2
}
