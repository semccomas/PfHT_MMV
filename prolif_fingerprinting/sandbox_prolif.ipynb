{
 "cells": [
  {
   "attachments": {},
   "cell_type": "markdown",
   "metadata": {},
   "source": [
    "#### Similar to the `compare lig_res_interactions_by_type`, the goal here is compare interactions between simulations, only here is about specific residues, not specific interactions\n",
    "\n",
    "This used to be a same part of that script when it was a sandbox script, but I figured it would be best that this is alone now\n",
    "\n",
    "\n",
    "This is going to be used to measure how interactions are between conditions (eg showing that crystal sims don't have very different fingerprints, whereas EM does)"
   ]
  },
  {
   "cell_type": "code",
   "execution_count": 2,
   "metadata": {},
   "outputs": [],
   "source": [
    "import numpy as np\n",
    "import sys\n",
    "import matplotlib.pyplot as plt\n",
    "import prolif as plf\n",
    "import MDAnalysis as mda\n",
    "import pandas as pd\n",
    "import seaborn as sns\n",
    "\n",
    "sys.path.append('../')\n",
    "import src.analysis_functions as analysis_functions\n",
    "import src.simulation_metadata as sims\n",
    "from src.figure_parameters import figure_rc_params\n",
    "import matplotlib as mpl"
   ]
  },
  {
   "cell_type": "code",
   "execution_count": 32,
   "metadata": {},
   "outputs": [],
   "source": [
    "crystal_or_em = 'em_binding_fp'\n",
    "\n",
    "if crystal_or_em == 'crystal_binding_fp':\n",
    "    sim_list = [sims.PfHT_MMV_crystal, \n",
    "                sims.PfHT_MMV8_crystal, \n",
    "                sims.W412A_MMV_crystal,\n",
    "                sims.GLUT3_MMV_crystal\n",
    "                ]\n",
    "elif crystal_or_em == 'em_binding_fp':\n",
    "    sim_list = [sims.PfHT_MMV12, \n",
    "                sims.PfHT_MMV8, \n",
    "                sims.W412A_MMV12,\n",
    "                sims.GLUT1_MMV12\n",
    "                ]\n",
    "\n",
    "#sim_list = [sims.PfHT_3361_em, sims.PfHT_3361_crystal]\n",
    "\n",
    "color_l = [sim.color for sim in sim_list]\n",
    "\n",
    "all_unis, all_lens = analysis_functions.load_unis(\n",
    "    sim_list= sim_list\n",
    ")\n"
   ]
  },
  {
   "cell_type": "code",
   "execution_count": 33,
   "metadata": {},
   "outputs": [],
   "source": [
    "all_fp_dfs = {}\n",
    "skip = 1\n",
    "\n",
    "for sim in sim_list:\n",
    "    temp_fp_dfs = []\n",
    "    for n, rep_fp in enumerate(all_unis[sim.name]):\n",
    "        df = analysis_functions.get_fp_dataframe(\n",
    "            u=rep_fp,\n",
    "            skip=skip,\n",
    "            run_calc=False,\n",
    "            filename=f\"{sim.name}.replica_{n+1}.skip{skip}\",\n",
    "        )\n",
    "        temp_fp_dfs.append(df)\n",
    "    all_fp_dfs[sim.name] = temp_fp_dfs\n"
   ]
  },
  {
   "cell_type": "code",
   "execution_count": null,
   "metadata": {},
   "outputs": [],
   "source": []
  },
  {
   "attachments": {},
   "cell_type": "markdown",
   "metadata": {},
   "source": [
    "# d425 vs h416\n",
    "i apologize for this. I am so tired and desperate to just plot anything "
   ]
  },
  {
   "cell_type": "code",
   "execution_count": 35,
   "metadata": {},
   "outputs": [],
   "source": [
    "with mpl.rc_context(figure_rc_params):\n",
    "\n",
    "    fig, ax = plt.subplots(1,3, figsize=(10,3))\n",
    "    ax=np.ravel(ax)\n",
    "    for rep in np.arange(0,3):\n",
    "        u = all_unis[sims.PfHT_MMV12.name][rep] \n",
    "\n",
    "        import MDAnalysis.analysis.distances as d\n",
    "\n",
    "        h416 = u.select_atoms('resname HSD and resid 395 and not backbone')\n",
    "        d425 = u.select_atoms('resname ASP and resid 404 and not backbone')\n",
    "        mmv = u.select_atoms('resname MMV and name O6 H24')\n",
    "        dist_h416 = []\n",
    "        #dist_m150 = []\n",
    "        dist_d425 = []\n",
    "        for ts in u.trajectory:\n",
    "            dist_h416.append(np.min(d.distance_array(h416.positions, mmv.positions)))\n",
    "         #   dist_m150.append(np.min(d.distance_array(m150.positions, mmv.positions)))\n",
    "            dist_d425.append(np.min(d.distance_array(d425.positions, mmv.positions)))\n",
    "\n",
    "        dist_h416 = np.array(dist_h416)\n",
    "        #dist_m150 = np.array(dist_m150)\n",
    "        dist_d425 = np.array(dist_d425)\n",
    "\n",
    "\n",
    "        cutoff=3\n",
    "        dist_h416[dist_h416>cutoff] = 0\n",
    "        dist_h416[dist_h416!=0] = 1\n",
    "\n",
    "        dist_d425[dist_d425>cutoff] = 0\n",
    "        dist_d425[dist_d425!=0] = 1\n",
    "\n",
    "        time = np.arange(0, len(dist_d425))\n",
    "        width =0.18\n",
    "        align = 'center'\n",
    "        colors = ['#B1CDA6', '#D1D1D1', '#62B6CB', '#FFE381']\n",
    "        ax[rep].bar(0.2, len(np.where(dist_d425 + dist_h416 == 2)[0])/len(time), align=align, width=width, color=colors[0])\n",
    "        ax[rep].bar(0.4, len(np.where(dist_d425 + dist_h416 == 0)[0])/len(time), align=align, width=width,color=colors[1])\n",
    "        ax[rep].bar(0.6, len(np.where(dist_d425 - dist_h416 == 1)[0])/len(time), align=align,width=width,color=colors[2])\n",
    "        ax[rep].bar(0.8, len(np.where(dist_d425 - dist_h416 == -1)[0])/len(time), align=align, width=width,color=colors[3])\n",
    "\n",
    "        for bars in ax[rep].containers:\n",
    "            ax[rep].bar_label(bars, np.round(bars.datavalues*100, 0))\n",
    "\n",
    "        ax[rep].set_xticks([0.2,0.4,0.6,0.8],['Both','Neither','D425','H416'])\n",
    "        ax[rep].set_title(f'Replica {rep+1}')\n",
    "\n",
    "        ax[rep].set_xlim(0.1,0.9)\n",
    "        ax[rep].set_ylim(0,1)\n",
    "        ax[rep].set_yticks([0,0.25,0.5,0.75,1], ['0%', '25%', '50%', '75%', '100%'])\n",
    "\n",
    "    plt.tight_layout()\n",
    "\n",
    "plt.savefig('../../../images_paper/simulations/D425_vs_H416.svg')\n"
   ]
  },
  {
   "cell_type": "code",
   "execution_count": null,
   "metadata": {},
   "outputs": [],
   "source": []
  },
  {
   "attachments": {},
   "cell_type": "markdown",
   "metadata": {},
   "source": [
    "# Pi stacking to W412"
   ]
  },
  {
   "cell_type": "code",
   "execution_count": 6,
   "metadata": {},
   "outputs": [],
   "source": [
    "df = all_fp_dfs[sims.PfHT_MMV12.name][0]\n",
    "rep1 = np.array(df['TRP391']['PiStacking'], dtype=int)\n",
    "\n",
    "df = all_fp_dfs[sims.PfHT_MMV12.name][1]\n",
    "rep2 = np.array(df['TRP391']['PiStacking'], dtype=int)\n",
    "\n",
    "df = all_fp_dfs[sims.PfHT_MMV12.name][2]\n",
    "rep3 = np.array(df['TRP391']['PiStacking'], dtype=int)"
   ]
  },
  {
   "cell_type": "code",
   "execution_count": 7,
   "metadata": {},
   "outputs": [
    {
     "data": {
      "image/png": "[encoded data removed]",
      "text/plain": [
       "<Figure size 1000x300 with 1 Axes>"
      ]
     },
     "metadata": {},
     "output_type": "display_data"
    }
   ],
   "source": [
    "f,ax = plt.subplots(1,1, figsize=(10,3))\n",
    "test = [rep1,rep2,rep3]\n",
    "test = np.array(test)\n",
    "g = sns.heatmap(test,cbar=False, cmap=['white', 'black'], xticklabels=100)\n",
    "ax.set_yticks([0.5,1.5,2.5], ['Replica 1','Replica 2','Replica 3'])\n",
    "ax.set_xlabel('Time (ns)')\n",
    "plt.savefig('../../../images_paper/simulations/W412_pi_stacking.png', bbox_inches='tight')\n",
    "plt.show()"
   ]
  },
  {
   "cell_type": "code",
   "execution_count": 8,
   "metadata": {},
   "outputs": [
    {
     "data": {
      "text/plain": [
       "585"
      ]
     },
     "execution_count": 8,
     "metadata": {},
     "output_type": "execute_result"
    }
   ],
   "source": [
    "np.sum(rep3)"
   ]
  },
  {
   "attachments": {},
   "cell_type": "markdown",
   "metadata": {},
   "source": [
    "# Hbonding between Q169 and T173 (PfHT) vs Q161 and V165 (GLUT1)\n",
    "\n",
    "Just show RMSD for now"
   ]
  },
  {
   "cell_type": "code",
   "execution_count": 9,
   "metadata": {},
   "outputs": [],
   "source": [
    "from MDAnalysis.analysis.rms import RMSD\n"
   ]
  },
  {
   "cell_type": "code",
   "execution_count": 10,
   "metadata": {},
   "outputs": [],
   "source": [
    "crystal_or_em = 'em_binding_fp'\n",
    "\n",
    "if crystal_or_em == 'crystal_binding_fp':\n",
    "    sim_list = [sims.PfHT_MMV_crystal, \n",
    "                sims.PfHT_MMV8_crystal, \n",
    "                sims.W412A_MMV_crystal,\n",
    "                sims.GLUT3_MMV_crystal\n",
    "                ]\n",
    "elif crystal_or_em == 'em_binding_fp':\n",
    "    sim_list = [sims.PfHT_MMV12, \n",
    "                sims.PfHT_MMV8, \n",
    "                sims.W412A_MMV12,\n",
    "                sims.GLUT1_MMV12\n",
    "                ]\n",
    "\n",
    "#sim_list = [sims.PfHT_3361_em, sims.PfHT_3361_crystal]\n",
    "\n",
    "color_l = [sim.color for sim in sim_list]\n",
    "\n",
    "all_unis, all_lens = analysis_functions.load_unis(\n",
    "    sim_list= sim_list\n",
    ")\n",
    "\n",
    "for rep in np.arange(0,3):\n",
    "    u = all_unis[sims.PfHT_MMV12.name][rep]\n",
    "    u.add_TopologyAttr('resid', list(range(22, len(u.residues)+22)))\n",
    "\n",
    "\n",
    "for rep in np.arange(0,3):\n",
    "    u = all_unis[sims.GLUT1_MMV12.name][rep]\n",
    "    u.add_TopologyAttr('resid', list(range(8, len(u.residues)+8)))"
   ]
  },
  {
   "cell_type": "code",
   "execution_count": 11,
   "metadata": {},
   "outputs": [],
   "source": []
  },
  {
   "attachments": {},
   "cell_type": "markdown",
   "metadata": {},
   "source": [
    "again, so sorry. Desparation"
   ]
  },
  {
   "cell_type": "code",
   "execution_count": 30,
   "metadata": {},
   "outputs": [
    {
     "name": "stdout",
     "output_type": "stream",
     "text": [
      "<ResidueGroup [<Residue GLN, 169>]>\n",
      "<ResidueGroup [<Residue GLN, 169>]>\n",
      "<ResidueGroup [<Residue GLN, 169>]>\n",
      "<ResidueGroup [<Residue GLN, 161>]>\n",
      "<ResidueGroup [<Residue GLN, 161>]>\n",
      "<ResidueGroup [<Residue GLN, 161>]>\n"
     ]
    }
   ],
   "source": [
    "with mpl.rc_context(figure_rc_params):\n",
    "\n",
    "    fig,ax = plt.subplots(2,2,figsize=(10,3),sharex=True)\n",
    "    ax = np.ravel(ax)\n",
    "\n",
    "    ref = mda.Universe(sims.PfHT_MMV12.ref_path)\n",
    "    color_l = ['#618c03', '#D1FA7B', '#2C5900']\n",
    "\n",
    "    for rep in np.arange(0,3):\n",
    "        u = all_unis[sims.PfHT_MMV12.name][rep]\n",
    "\n",
    "        R = RMSD(\n",
    "            u,\n",
    "            ref,\n",
    "            select='backbone',\n",
    "            groupselections=['resid 169 and resname GLN', 'resname MMV'],\n",
    "        )\n",
    "        print(u.select_atoms('resid 169').residues)\n",
    "        R.run()\n",
    "        rmsd = R.results.rmsd.T\n",
    "\n",
    "        ax[0].plot(rmsd[3], color = color_l[rep])\n",
    "        ax[2].plot(rmsd[4], color = color_l[rep])\n",
    "        ax[0].set_xlim(0,1000)\n",
    "        ax[0].set_ylim(0,5)\n",
    "        ax[0].set_title('RMSD Q169')\n",
    "        ax[2].set_title('RMSD MMV')\n",
    "        ax[2].set_ylim(0, 15)\n",
    "\n",
    "\n",
    "\n",
    "    ref = mda.Universe(sims.GLUT1_MMV12.ref_path)\n",
    "    color_l = ['#878787', '#BABABA', '#CFCFCF']\n",
    "    for rep in np.arange(0,3):\n",
    "        u = all_unis[sims.GLUT1_MMV12.name][rep]\n",
    "    \n",
    "        R = RMSD(\n",
    "            u,\n",
    "            ref,\n",
    "            select='backbone',\n",
    "            groupselections=['resid 161 and resname GLN', 'resname MMV'],\n",
    "        )\n",
    "        print(u.select_atoms('resid 161').residues)\n",
    "        R.run()\n",
    "        rmsd = R.results.rmsd.T\n",
    "\n",
    "        ax[1].plot(rmsd[3], color = color_l[rep])\n",
    "        ax[1].set_ylim(0,5)\n",
    "        ax[1].set_title('RMSD Q161')\n",
    "        ax[3].plot(rmsd[4], color = color_l[rep])\n",
    "        ax[3].set_title('RMSD MMV')\n",
    "        ax[3].set_ylim(0,15)\n",
    "        \n",
    "\n",
    "    ax[2].set_xlabel('Time (ns)')\n",
    "    ax[3].set_xlabel('Time (ns)')\n",
    "    ax[0].set_ylabel('RMSD (Å)')\n",
    "    ax[2].set_ylabel('RMSD (Å)')\n",
    "    plt.tight_layout()\n",
    "    plt.savefig('../../../images_paper/simulations/RMSD_q169_v_q161.svg', bbox_inches='tight')\n",
    "\n"
   ]
  },
  {
   "cell_type": "code",
   "execution_count": null,
   "metadata": {},
   "outputs": [],
   "source": []
  },
  {
   "cell_type": "code",
   "execution_count": null,
   "metadata": {},
   "outputs": [],
   "source": []
  },
  {
   "cell_type": "code",
   "execution_count": null,
   "metadata": {},
   "outputs": [],
   "source": []
  },
  {
   "cell_type": "code",
   "execution_count": 41,
   "metadata": {},
   "outputs": [
    {
     "data": {
      "text/plain": [
       "array(['LEU', 'LEU', 'LEU', 'LEU', 'LEU', 'LEU', 'LEU', 'LEU', 'LEU',\n",
       "       'LEU', 'LEU', 'LEU', 'LEU', 'LEU', 'LEU', 'LEU', 'LEU', 'LEU',\n",
       "       'LEU', 'LEU', 'LEU'], dtype=object)"
      ]
     },
     "execution_count": 41,
     "metadata": {},
     "output_type": "execute_result"
    }
   ],
   "source": [
    "u.select_atoms('resid 7').resnames"
   ]
  },
  {
   "cell_type": "code",
   "execution_count": 37,
   "metadata": {},
   "outputs": [
    {
     "data": {
      "text/plain": [
       "array(['LEU', 'LEU', 'LEU', 'LEU', 'LEU', 'LEU', 'LEU', 'LEU', 'LEU',\n",
       "       'LEU', 'LEU', 'LEU', 'LEU', 'LEU', 'LEU', 'LEU', 'LEU', 'LEU',\n",
       "       'LEU', 'LEU', 'LEU'], dtype=object)"
      ]
     },
     "execution_count": 37,
     "metadata": {},
     "output_type": "execute_result"
    }
   ],
   "source": [
    "ref.select_atoms('resid 8').resnames"
   ]
  },
  {
   "cell_type": "code",
   "execution_count": null,
   "metadata": {},
   "outputs": [],
   "source": []
  },
  {
   "cell_type": "code",
   "execution_count": 106,
   "metadata": {},
   "outputs": [],
   "source": [
    "from MDAnalysis.analysis.hydrogenbonds.hbond_analysis import HydrogenBondAnalysis as HBA"
   ]
  },
  {
   "cell_type": "code",
   "execution_count": 138,
   "metadata": {},
   "outputs": [
    {
     "data": {
      "text/plain": [
       "<AtomGroup with 14 atoms>"
      ]
     },
     "execution_count": 138,
     "metadata": {},
     "output_type": "execute_result"
    }
   ],
   "source": [
    "u = all_unis[sims.PfHT_MMV12.name][2]\n",
    "u.select_atoms('resid 152 and resname THR')"
   ]
  },
  {
   "cell_type": "code",
   "execution_count": 139,
   "metadata": {},
   "outputs": [
    {
     "name": "stderr",
     "output_type": "stream",
     "text": [
      "/home/semccomas/anaconda3/envs/prolif/lib/python3.9/site-packages/MDAnalysis/analysis/hydrogenbonds/hbond_analysis.py:761: UserWarning: No hydrogen bonds were found given angle of 150 between Donor, None, and Acceptor, (resname ALA and name O) or (resname ARG and name NE) or (resname ARG and name NH1) or (resname ARG and name NH2) or (resname ARG and name O) or (resname ASN and name ND2) or (resname ASN and name O) or (resname ASN and name OD1) or (resname ASP and name O) or (resname ASP and name OD1) or (resname ASP and name OD2) or (resname CYS and name O) or (resname GLN and name NE2) or (resname GLN and name O) or (resname GLN and name OE1) or (resname GLU and name O) or (resname GLU and name OE1) or (resname GLU and name OE2) or (resname GLY and name O) or (resname HSD and name NE2) or (resname HSD and name O) or (resname ILE and name O) or (resname LEU and name O) or (resname LYS and name O) or (resname MET and name O) or (resname MET and name OT1) or (resname MET and name OT2) or (resname MMV and name O4) or (resname MMV and name O6) or (resname PHE and name O) or (resname PRO and name O) or (resname SER and name O) or (resname SER and name OG) or (resname THR and name O) or (resname THR and name OG1) or (resname TRP and name NE1) or (resname TRP and name O) or (resname TYR and name O) or (resname TYR and name OH) or (resname VAL and name O).\n",
      "  warnings.warn(\n"
     ]
    },
    {
     "data": {
      "text/plain": [
       "<MDAnalysis.analysis.hydrogenbonds.hbond_analysis.HydrogenBondAnalysis at 0x7fb3af1cc4f0>"
      ]
     },
     "execution_count": 139,
     "metadata": {},
     "output_type": "execute_result"
    }
   ],
   "source": [
    "hbonds = HBA(\n",
    "  universe=u,\n",
    "  between=['resid 148 and resname GLN', 'resid 152 and resname THR']\n",
    "  )\n",
    "hbonds.run()"
   ]
  },
  {
   "cell_type": "code",
   "execution_count": 146,
   "metadata": {},
   "outputs": [
    {
     "data": {
      "text/plain": [
       "[array([0, 0, 1, ..., 2, 1, 2]),\n",
       " array([1, 0, 2, ..., 1, 1, 1]),\n",
       " array([1, 0, 1, ..., 2, 2, 1])]"
      ]
     },
     "execution_count": 146,
     "metadata": {},
     "output_type": "execute_result"
    }
   ],
   "source": [
    "test = []\n",
    "f,ax = plt.subplots(1,1, figsize=(10,3))\n",
    "test.append(r1)\n",
    "test.append(r2)\n",
    "test.append(hbonds.count_by_time())\n",
    "#test = np.array(test)\n",
    "\n",
    "#\n",
    "# g = sns.heatmap(test,cbar=True, cmap=['white','grey', 'black'], xticklabels=100)\n",
    "test\n",
    "#plt.show()"
   ]
  },
  {
   "cell_type": "code",
   "execution_count": 128,
   "metadata": {},
   "outputs": [],
   "source": [
    "r1 = hbonds.count_by_time()"
   ]
  },
  {
   "cell_type": "code",
   "execution_count": 137,
   "metadata": {},
   "outputs": [],
   "source": [
    "r2 = hbonds.count_by_time()"
   ]
  },
  {
   "cell_type": "code",
   "execution_count": null,
   "metadata": {},
   "outputs": [],
   "source": []
  }
 ],
 "metadata": {
  "kernelspec": {
   "display_name": "prolif",
   "language": "python",
   "name": "python3"
  },
  "language_info": {
   "codemirror_mode": {
    "name": "ipython",
    "version": 3
   },
   "file_extension": ".py",
   "mimetype": "text/x-python",
   "name": "python",
   "nbconvert_exporter": "python",
   "pygments_lexer": "ipython3",
   "version": "3.9.16"
  },
  "orig_nbformat": 4
 },
 "nbformat": 4,
 "nbformat_minor": 2
}
