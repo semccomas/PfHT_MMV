{
 "cells": [
  {
   "attachments": {},
   "cell_type": "markdown",
   "metadata": {},
   "source": [
    "#### Similar to the `compare lig_res_interactions_by_type`, the goal here is compare interactions between simulations, only here is about specific residues, not specific interactions\n",
    "\n",
    "This used to be a same part of that script when it was a sandbox script, but I figured it would be best that this is alone now\n",
    "\n",
    "\n",
    "This is going to be used to measure how interactions are between conditions (eg showing that crystal sims don't have very different fingerprints, whereas EM does)"
   ]
  },
  {
   "cell_type": "code",
   "execution_count": 241,
   "metadata": {},
   "outputs": [],
   "source": [
    "import numpy as np\n",
    "import sys\n",
    "import matplotlib.pyplot as plt\n",
    "import prolif as plf\n",
    "import MDAnalysis as mda\n",
    "import pandas as pd\n",
    "import seaborn as sns\n",
    "\n",
    "sys.path.append('../')\n",
    "import src.analysis_functions as analysis_functions\n",
    "import src.simulation_metadata as sims\n",
    "from src.figure_parameters import figure_rc_params\n",
    "import matplotlib as mpl"
   ]
  },
  {
   "cell_type": "code",
   "execution_count": 242,
   "metadata": {},
   "outputs": [],
   "source": [
    "crystal_or_em = 'em_binding_fp'\n",
    "\n",
    "if crystal_or_em == 'crystal_binding_fp':\n",
    "    sim_list = [sims.PfHT_MMV_crystal, \n",
    "                sims.PfHT_MMV8_crystal, \n",
    "                sims.W412A_MMV_crystal,\n",
    "                sims.GLUT3_MMV_crystal\n",
    "                ]\n",
    "elif crystal_or_em == 'em_binding_fp':\n",
    "    sim_list = [sims.PfHT_MMV12, \n",
    "                sims.PfHT_MMV8, \n",
    "                sims.W412A_MMV12,\n",
    "                sims.GLUT1_MMV12\n",
    "                ]\n",
    "\n",
    "color_l = [sim.color for sim in sim_list]\n",
    "\n",
    "all_unis, all_lens = analysis_functions.load_unis(\n",
    "    sim_list= sim_list\n",
    ")\n"
   ]
  },
  {
   "cell_type": "code",
   "execution_count": 243,
   "metadata": {},
   "outputs": [],
   "source": [
    "all_fp_dfs = {}\n",
    "skip = 1\n",
    "\n",
    "for sim in sim_list:\n",
    "    temp_fp_dfs = []\n",
    "    for n, rep_fp in enumerate(all_unis[sim.name]):\n",
    "        df = analysis_functions.get_fp_dataframe(\n",
    "            u=rep_fp,\n",
    "            skip=skip,\n",
    "            run_calc=False,\n",
    "            filename=f\"{sim.name}.replica_{n+1}.skip{skip}\",\n",
    "        )\n",
    "        temp_fp_dfs.append(df)\n",
    "    all_fp_dfs[sim.name] = temp_fp_dfs\n"
   ]
  },
  {
   "attachments": {},
   "cell_type": "markdown",
   "metadata": {},
   "source": [
    "# Calculate percentage of whatever interaction you want\n",
    "Just find where t.ex TRP412 (or equivalent) is in the dataframe, then take mean\n",
    "\n",
    "#### Pt 1 - First function `mean_intxns_per_res_wide` will output a df for one residue. You can plot this directly comparing interaction types"
   ]
  },
  {
   "attachments": {},
   "cell_type": "markdown",
   "metadata": {},
   "source": [
    "##### `res_map` will help with residue numbering and labeling, since it's different between PfHT and GLUTs osv"
   ]
  },
  {
   "cell_type": "code",
   "execution_count": 244,
   "metadata": {},
   "outputs": [],
   "source": [
    "res_map = {\"W412\":{'PfHT1':'TRP391', 'GLUT1':'TRP381', 'GLUT3':'TRP386'},\n",
    "           \"Q169\":{'PfHT1':'GLN148', 'GLUT1':'GLN154', 'GLUT3':'GLN159'},\n",
    "           \"Q305\":{'PfHT1':\"GLN284\", 'GLUT3':'GLN280', 'GLUT1':'GLN275'},\n",
    "           \"Q306\":{'PfHT1':\"GLN285\", 'GLUT3':'GLN281', 'GLUT1':'GLN276'},\n",
    "           \"N341\":{'PfHT1':'ASN320', 'GLUT3':'ASN315', 'GLUT1':'ASN310'},\n",
    "           \"N311\":{\"PfHT1\":'ASN290', 'GLUT3':'ASN286', 'GLUT1':'ASN281'},\n",
    "           \"W436\":{\"PfHT1\":'TRP415', 'GLUT3':'TRP410', 'GLUT1':'TRP405'},\n",
    "           \"A404\":{\"PfHT1\":'ALA383', 'GLUT3':'GLU378', 'GLUT1':'GLU373'},\n",
    "           \"S315\":{\"PfHT1\":'SER294', 'GLUT3':'TYR290', 'GLUT1':'TYR285'}, #for crystal str\n",
    "           'S432':{'PfHT1':'SER411', 'GLUT1':'GLY401'}, ## now this is EM binding site\n",
    "           'T173':{'PfHT1':'THR152', 'GLUT1':'VAL158'},\n",
    "           'L411':{'PfHT1':'LEU390', 'GLUT1':'PRO380'},\n",
    "           \n",
    "           }\n",
    "\n",
    "res= 'W412'\n"
   ]
  },
  {
   "attachments": {},
   "cell_type": "markdown",
   "metadata": {},
   "source": [
    "#### then, use the `get_mean_intxn` and `wide_df_of_reps_conds` function to get the mean interactions per residue. \n",
    "return a wide dataframe with the top level being protein condition, the lower level being the replica, and index being interaction type"
   ]
  },
  {
   "cell_type": "code",
   "execution_count": 280,
   "metadata": {},
   "outputs": [],
   "source": [
    "def mean_intxn_by_type(\n",
    "        fp_df: pd.DataFrame,\n",
    "        sim: sims.SimulationMetadata,\n",
    "        resname: str,\n",
    "        res_map: dict=res_map,\n",
    "        mean_cutoff: int=0.1\n",
    ") -> pd.Series:\n",
    "    ''' \n",
    "    Calculate mean interaction time in a fingerprint df\n",
    "\n",
    "    Return a pandas series with index as interaction types\n",
    "    '''\n",
    "\n",
    "    ## need conditional for W412A sims\n",
    "    if 'W412' in sim.name and resname == 'W412':\n",
    "        if 'ALA391' in fp_df:\n",
    "            mean_intxn = fp_df['ALA391'].mean()\n",
    "        else:\n",
    "            mean_intxn = pd.Series([], name='interaction')\n",
    "    \n",
    "    else:\n",
    "        if res_map[resname][sim.protein] in fp_df:\n",
    "            mean_intxn = fp_df[res_map[resname][sim.protein]].mean()\n",
    "        else:\n",
    "            mean_intxn = pd.Series([], name='interaction')\n",
    "    \n",
    "    mean_intxn = mean_intxn.loc[mean_intxn > mean_cutoff]\n",
    "\n",
    "    return mean_intxn"
   ]
  },
  {
   "cell_type": "code",
   "execution_count": 308,
   "metadata": {},
   "outputs": [],
   "source": [
    "def mean_intxn_combined(\n",
    "        fp_df: pd.DataFrame,\n",
    "        sim: sims.SimulationMetadata,\n",
    "        resname: str,\n",
    "        res_map: dict=res_map,\n",
    "        drop_interactions: list=['Hydrophobic', 'VdWContact'],\n",
    "        mean_cutoff: int=0.1\n",
    ") -> pd.Series:\n",
    "    ''' \n",
    "    Calculate mean interaction time in a fingerprint df, combined across intxns\n",
    "    (so if both HBAcceptor and PiStacking, counts as one, if not anything, counts as zero)\n",
    "\n",
    "    Return a pandas series with \"Contact\" as index\n",
    "    '''\n",
    "\n",
    "    mapped_resname = res_map[resname][sim.protein]\n",
    "    \n",
    "    ## need conditional for W412A sims\n",
    "    if 'W412' in sim.name and resname == 'W412':\n",
    "        mapped_resname = 'ALA391'\n",
    "\n",
    "    if mapped_resname in fp_df:\n",
    "\n",
    "        n_zeros = (\n",
    "            fp_df[mapped_resname]\n",
    "            .drop(columns=drop_interactions, errors='ignore')\n",
    "            .mean(axis=1)\n",
    "            .value_counts()\n",
    "        )\n",
    "        \n",
    "        if 0 in n_zeros and not n_zeros.empty:\n",
    "            n_zeros = n_zeros[0]\n",
    "        elif n_zeros.empty:   #sometimes, only intxns are ones dropped, need to assign 100% zeros if so\n",
    "            n_zeros = len(fp_df)\n",
    "        else:\n",
    "            n_zeros = 0  # if you can't find any zeros and n_zeros exists, make n_zeros == 0 (means 100% binding)\n",
    "    else:\n",
    "        n_zeros = len(fp_df)  # all zeros if you can't find\n",
    "    \n",
    "    n_zeros = (len(fp_df) - n_zeros) / len(fp_df)\n",
    "    if n_zeros < mean_cutoff:\n",
    "        n_zeros = 0 \n",
    "    \n",
    "    mean_intxn = pd.Series(index=['Contact'], data=n_zeros, name='interaction')\n",
    "    return mean_intxn"
   ]
  },
  {
   "cell_type": "code",
   "execution_count": 309,
   "metadata": {},
   "outputs": [
    {
     "data": {
      "text/plain": [
       "Contact    0\n",
       "Name: interaction, dtype: int64"
      ]
     },
     "execution_count": 309,
     "metadata": {},
     "output_type": "execute_result"
    }
   ],
   "source": [
    "test = mean_intxn_combined(all_fp_dfs[sims.W412A_MMV12.name][1],\n",
    "                    sim=sims.W412A_MMV12,\n",
    "                    resname='W412',\n",
    "                    drop_interactions=['Hydrophobic', 'VdWContact'])\n",
    "\n",
    "test"
   ]
  },
  {
   "cell_type": "code",
   "execution_count": 310,
   "metadata": {},
   "outputs": [],
   "source": [
    "def wide_df_of_reps_conds(\n",
    "        resname: str,\n",
    "        all_fp_dfs: dict=all_fp_dfs,\n",
    "        res_map: dict=res_map,\n",
    "        sim_list: list=sim_list,\n",
    "        mean_cutoff: int=0.1,\n",
    "        by_type_or_combined: str='combined',\n",
    ") -> pd.DataFrame:\n",
    "    '''\n",
    "    Will loop through the sim_list\n",
    "    For each element in list, loop through all reps of this element, finding the \n",
    "    fingerprint for the given residue. This is dictated by res_map, seen in the cell above\n",
    "    then combine all conditions, left with a wide dataframe called mean_intxn_all_conds\n",
    "    '''\n",
    "    \n",
    "    mean_intxn_all_conds = {}\n",
    "    for sim in sim_list:\n",
    "        replica_names = [f\"replica {i}\" for i in range(1, sim.n_replicas + 1)]\n",
    "\n",
    "        ### group replicas as cols into a wide dataframe\n",
    "        mean_intxn_all_reps = []\n",
    "        for rep in all_fp_dfs[sim.name]:\n",
    "\n",
    "            if by_type_or_combined == 'by_type':\n",
    "                mean_intxn = mean_intxn_by_type(fp_df=rep,\n",
    "                                            sim=sim,\n",
    "                                            resname=resname)\n",
    "            \n",
    "            elif by_type_or_combined == 'combined':\n",
    "                mean_intxn = mean_intxn_combined(fp_df=rep,\n",
    "                                            sim=sim,\n",
    "                                            resname=resname)\n",
    "            \n",
    "\n",
    "\n",
    "            mean_intxn_all_reps.append(mean_intxn)\n",
    "        mean_intxn_all_reps = pd.concat(mean_intxn_all_reps, axis=1, keys=replica_names)\n",
    "        \n",
    "        ### then group conditions as cols into wide(r) dataframe\n",
    "        mean_intxn_all_conds[sim.name] = mean_intxn_all_reps\n",
    "    mean_intxn_all_conds = pd.concat(mean_intxn_all_conds, axis=1)\n",
    "    mean_intxn_all_conds.index.name='interaction' #somehow this gets lost\n",
    "    return mean_intxn_all_conds"
   ]
  },
  {
   "cell_type": "code",
   "execution_count": 311,
   "metadata": {},
   "outputs": [
    {
     "data": {
      "text/html": [
       "<div>\n",
       "<style scoped>\n",
       "    .dataframe tbody tr th:only-of-type {\n",
       "        vertical-align: middle;\n",
       "    }\n",
       "\n",
       "    .dataframe tbody tr th {\n",
       "        vertical-align: top;\n",
       "    }\n",
       "\n",
       "    .dataframe thead tr th {\n",
       "        text-align: left;\n",
       "    }\n",
       "\n",
       "    .dataframe thead tr:last-of-type th {\n",
       "        text-align: right;\n",
       "    }\n",
       "</style>\n",
       "<table border=\"1\" class=\"dataframe\">\n",
       "  <thead>\n",
       "    <tr>\n",
       "      <th></th>\n",
       "      <th colspan=\"3\" halign=\"left\">PfHT_MMV12</th>\n",
       "      <th colspan=\"3\" halign=\"left\">PfHT_MMV8</th>\n",
       "      <th colspan=\"3\" halign=\"left\">W412A_MMV12</th>\n",
       "      <th colspan=\"3\" halign=\"left\">GLUT1_MMV12</th>\n",
       "    </tr>\n",
       "    <tr>\n",
       "      <th></th>\n",
       "      <th>replica 1</th>\n",
       "      <th>replica 2</th>\n",
       "      <th>replica 3</th>\n",
       "      <th>replica 1</th>\n",
       "      <th>replica 2</th>\n",
       "      <th>replica 3</th>\n",
       "      <th>replica 1</th>\n",
       "      <th>replica 2</th>\n",
       "      <th>replica 3</th>\n",
       "      <th>replica 1</th>\n",
       "      <th>replica 2</th>\n",
       "      <th>replica 3</th>\n",
       "    </tr>\n",
       "    <tr>\n",
       "      <th>interaction</th>\n",
       "      <th></th>\n",
       "      <th></th>\n",
       "      <th></th>\n",
       "      <th></th>\n",
       "      <th></th>\n",
       "      <th></th>\n",
       "      <th></th>\n",
       "      <th></th>\n",
       "      <th></th>\n",
       "      <th></th>\n",
       "      <th></th>\n",
       "      <th></th>\n",
       "    </tr>\n",
       "  </thead>\n",
       "  <tbody>\n",
       "    <tr>\n",
       "      <th>Contact</th>\n",
       "      <td>0.948052</td>\n",
       "      <td>0.342657</td>\n",
       "      <td>0.584416</td>\n",
       "      <td>0.126126</td>\n",
       "      <td>0.108889</td>\n",
       "      <td>0</td>\n",
       "      <td>0</td>\n",
       "      <td>0</td>\n",
       "      <td>0</td>\n",
       "      <td>0</td>\n",
       "      <td>0.545029</td>\n",
       "      <td>0</td>\n",
       "    </tr>\n",
       "  </tbody>\n",
       "</table>\n",
       "</div>"
      ],
      "text/plain": [
       "            PfHT_MMV12                     PfHT_MMV8                      \\\n",
       "             replica 1 replica 2 replica 3 replica 1 replica 2 replica 3   \n",
       "interaction                                                                \n",
       "Contact       0.948052  0.342657  0.584416  0.126126  0.108889         0   \n",
       "\n",
       "            W412A_MMV12                     GLUT1_MMV12                      \n",
       "              replica 1 replica 2 replica 3   replica 1 replica 2 replica 3  \n",
       "interaction                                                                  \n",
       "Contact               0         0         0           0  0.545029         0  "
      ]
     },
     "execution_count": 311,
     "metadata": {},
     "output_type": "execute_result"
    }
   ],
   "source": [
    "mean_intxn_all_conds = wide_df_of_reps_conds(\n",
    "                                            resname=res,\n",
    "                                            sim_list=sim_list,\n",
    "                                            all_fp_dfs=all_fp_dfs\n",
    "                                        )\n",
    "\n",
    "mean_intxn_all_conds"
   ]
  },
  {
   "attachments": {},
   "cell_type": "markdown",
   "metadata": {},
   "source": [
    "Here it makes life a bit easier to add a conditional for if we want to see all interactions, or just the \"contact\" ones"
   ]
  },
  {
   "cell_type": "code",
   "execution_count": 202,
   "metadata": {},
   "outputs": [],
   "source": [
    "show_only_contact = True\n",
    "\n",
    "if show_only_contact:\n",
    "    mean_intxn_all_conds = all_intxns_per_res_wide(\n",
    "                                                resname=res,\n",
    "                                                sim_list=sim_list,\n",
    "                                                all_fp_dfs=all_fp_dfs\n",
    "                                            )\n",
    "else:\n",
    "    mean_intxn_all_conds = mean_intxns_per_res_wide(\n",
    "                                                resname=res,\n",
    "                                                sim_list=sim_list,\n",
    "                                                all_fp_dfs=all_fp_dfs\n",
    "                                            )\n"
   ]
  },
  {
   "cell_type": "code",
   "execution_count": 218,
   "metadata": {},
   "outputs": [
    {
     "data": {
      "text/plain": [
       "True"
      ]
     },
     "execution_count": 218,
     "metadata": {},
     "output_type": "execute_result"
    }
   ],
   "source": [
    "df = all_fp_dfs[sims.PfHT_MMV12.name][0]\n",
    "\n",
    "'TRP391' in df"
   ]
  },
  {
   "attachments": {},
   "cell_type": "markdown",
   "metadata": {},
   "source": [
    "Since we want the order of the bar graphs to be the same, and contain same info, reindex on `intxn_index`\n",
    "- This will therefore automatically keep this order, and drop other interactions I don't care about, like Hydrophobic\n",
    "- Do `fillna` after to make all `nan` zero, so they appear on the bar graph as zeros"
   ]
  },
  {
   "cell_type": "code",
   "execution_count": 203,
   "metadata": {},
   "outputs": [
    {
     "data": {
      "text/html": [
       "<div>\n",
       "<style scoped>\n",
       "    .dataframe tbody tr th:only-of-type {\n",
       "        vertical-align: middle;\n",
       "    }\n",
       "\n",
       "    .dataframe tbody tr th {\n",
       "        vertical-align: top;\n",
       "    }\n",
       "\n",
       "    .dataframe thead tr th {\n",
       "        text-align: left;\n",
       "    }\n",
       "\n",
       "    .dataframe thead tr:last-of-type th {\n",
       "        text-align: right;\n",
       "    }\n",
       "</style>\n",
       "<table border=\"1\" class=\"dataframe\">\n",
       "  <thead>\n",
       "    <tr>\n",
       "      <th></th>\n",
       "      <th colspan=\"3\" halign=\"left\">PfHT_MMV12</th>\n",
       "      <th colspan=\"3\" halign=\"left\">PfHT_MMV8</th>\n",
       "      <th colspan=\"3\" halign=\"left\">W412A_MMV12</th>\n",
       "      <th colspan=\"3\" halign=\"left\">GLUT1_MMV12</th>\n",
       "    </tr>\n",
       "    <tr>\n",
       "      <th></th>\n",
       "      <th>replica 1</th>\n",
       "      <th>replica 2</th>\n",
       "      <th>replica 3</th>\n",
       "      <th>replica 1</th>\n",
       "      <th>replica 2</th>\n",
       "      <th>replica 3</th>\n",
       "      <th>replica 1</th>\n",
       "      <th>replica 2</th>\n",
       "      <th>replica 3</th>\n",
       "      <th>replica 1</th>\n",
       "      <th>replica 2</th>\n",
       "      <th>replica 3</th>\n",
       "    </tr>\n",
       "    <tr>\n",
       "      <th>interaction</th>\n",
       "      <th></th>\n",
       "      <th></th>\n",
       "      <th></th>\n",
       "      <th></th>\n",
       "      <th></th>\n",
       "      <th></th>\n",
       "      <th></th>\n",
       "      <th></th>\n",
       "      <th></th>\n",
       "      <th></th>\n",
       "      <th></th>\n",
       "      <th></th>\n",
       "    </tr>\n",
       "  </thead>\n",
       "  <tbody>\n",
       "    <tr>\n",
       "      <th>Contact</th>\n",
       "      <td>0</td>\n",
       "      <td>0</td>\n",
       "      <td>0</td>\n",
       "      <td>0</td>\n",
       "      <td>0</td>\n",
       "      <td>0</td>\n",
       "      <td>0</td>\n",
       "      <td>1.0</td>\n",
       "      <td>0</td>\n",
       "      <td>0</td>\n",
       "      <td>0</td>\n",
       "      <td>0</td>\n",
       "    </tr>\n",
       "  </tbody>\n",
       "</table>\n",
       "</div>"
      ],
      "text/plain": [
       "            PfHT_MMV12                     PfHT_MMV8                      \\\n",
       "             replica 1 replica 2 replica 3 replica 1 replica 2 replica 3   \n",
       "interaction                                                                \n",
       "Contact              0         0         0         0         0         0   \n",
       "\n",
       "            W412A_MMV12                     GLUT1_MMV12                      \n",
       "              replica 1 replica 2 replica 3   replica 1 replica 2 replica 3  \n",
       "interaction                                                                  \n",
       "Contact               0       1.0         0           0         0         0  "
      ]
     },
     "execution_count": 203,
     "metadata": {},
     "output_type": "execute_result"
    }
   ],
   "source": [
    "if show_only_contact:\n",
    "    intxn_index = {'Contact':[]}\n",
    "else:\n",
    "    intxn_index = {'HBAcceptor':[], 'HBDonor':[], 'VdWContact':[], 'PiStacking':[]}\n",
    "mean_intxn_all_conds = mean_intxn_all_conds.reindex(intxn_index).fillna(0)\n",
    "mean_intxn_all_conds"
   ]
  },
  {
   "attachments": {},
   "cell_type": "markdown",
   "metadata": {},
   "source": [
    "#### use `analysis_functions.process_df_wide` to make this into a long form dataframe"
   ]
  },
  {
   "cell_type": "code",
   "execution_count": 195,
   "metadata": {},
   "outputs": [],
   "source": [
    "mean_intxn_all_conds = analysis_functions.process_wide_df(\n",
    "    df=mean_intxn_all_conds,\n",
    "    index_col_name='interaction',\n",
    "    index_name='interaction',\n",
    "    top_level_melt_name='protein',\n",
    "    lower_level_melt_name='replica'\n",
    ")\n"
   ]
  },
  {
   "attachments": {},
   "cell_type": "markdown",
   "metadata": {},
   "source": [
    "#### plot in seaborn"
   ]
  },
  {
   "cell_type": "code",
   "execution_count": 196,
   "metadata": {},
   "outputs": [
    {
     "data": {
      "image/png": "[encoded data removed]",
      "text/plain": [
       "<Figure size 300x200 with 1 Axes>"
      ]
     },
     "metadata": {},
     "output_type": "display_data"
    }
   ],
   "source": [
    "with mpl.rc_context(figure_rc_params):\n",
    "    f,ax=plt.subplots(1,1, figsize=(3,2))\n",
    "    g = sns.barplot(data=mean_intxn_all_conds,\n",
    "                y='value', \n",
    "                x='interaction', \n",
    "                hue='protein',\n",
    "                ax=ax,\n",
    "                errorbar=None,\n",
    "                palette=color_l\n",
    "                )\n",
    "    g.legend_.remove()\n",
    "\n",
    "    sns.stripplot(\n",
    "        data=mean_intxn_all_conds,\n",
    "        y='value',\n",
    "        x='interaction',\n",
    "        hue='protein',\n",
    "        ax=ax,\n",
    "        dodge=True,\n",
    "        alpha=0.6,\n",
    "        edgecolor=\"black\",\n",
    "        linewidth=0.5,\n",
    "        legend=False,\n",
    "        size=8,\n",
    "        palette=color_l\n",
    "    )\n",
    "    ax.set_xticks(ax.get_xticks(), \n",
    "    ax.get_xticklabels(),\n",
    "    rotation=20,\n",
    "    fontsize=8,\n",
    "    )\n",
    "    ax.tick_params(axis='x', which='major', pad=0.2)\n",
    "    ax.set_xticks([])\n",
    "    ax.set_xlabel(None)\n",
    "\n",
    "    ax.set_ylim(0,1.05)\n",
    "    #ax.set_ylabel('Frequency of interaction', labelpad=0.002)\n",
    "    ax.set_ylabel(None)\n",
    "    #ax.set_yticks(ax.get_yticks(), np.array(ax.get_yticks()*100).astype(int))\n",
    "    ax.set_yticks([0,0.25,0.5,0.75,1], ['0%', '25%', '50%', '75%', '100%'])\n",
    "    \n",
    "    ax.spines[['right', 'top']].set_visible(False)\n",
    "    plt.subplots_adjust(bottom=0.2, left=0.2)\n",
    "\n",
    "    if show_only_contact:\n",
    "        plt.savefig(f'../../../images_paper/simulations/fingerprints/{crystal_or_em}.only_contact.{res}.svg')\n",
    "    else:\n",
    "        plt.savefig(f'../../../images_paper/simulations/fingerprints/{crystal_or_em}.by_type.{res}.svg')\n",
    "\n",
    "\n",
    "plt.show()"
   ]
  },
  {
   "attachments": {},
   "cell_type": "markdown",
   "metadata": {},
   "source": []
  },
  {
   "attachments": {},
   "cell_type": "markdown",
   "metadata": {},
   "source": []
  },
  {
   "attachments": {},
   "cell_type": "markdown",
   "metadata": {},
   "source": []
  }
 ],
 "metadata": {
  "kernelspec": {
   "display_name": "prolif",
   "language": "python",
   "name": "python3"
  },
  "language_info": {
   "codemirror_mode": {
    "name": "ipython",
    "version": 3
   },
   "file_extension": ".py",
   "mimetype": "text/x-python",
   "name": "python",
   "nbconvert_exporter": "python",
   "pygments_lexer": "ipython3",
   "version": "3.9.16"
  },
  "orig_nbformat": 4
 },
 "nbformat": 4,
 "nbformat_minor": 2
}
