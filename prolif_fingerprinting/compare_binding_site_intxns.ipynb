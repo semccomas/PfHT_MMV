{
 "cells": [
  {
   "attachments": {},
   "cell_type": "markdown",
   "metadata": {},
   "source": [
    "#### Similar to the `compare lig_res_interactions_by_type`, the goal here is compare interactions between simulations, only here is about specific residues, not specific interactions\n",
    "\n",
    "This used to be a same part of that script when it was a sandbox script, but I figured it would be best that this is alone now\n",
    "\n",
    "\n",
    "This is going to be used to measure how interactions are between conditions (eg showing that crystal sims don't have very different fingerprints, whereas EM does)"
   ]
  },
  {
   "cell_type": "code",
   "execution_count": 1,
   "metadata": {},
   "outputs": [],
   "source": [
    "import numpy as np\n",
    "import sys\n",
    "import matplotlib.pyplot as plt\n",
    "import prolif as plf\n",
    "import MDAnalysis as mda\n",
    "import pandas as pd\n",
    "import seaborn as sns\n",
    "\n",
    "sys.path.append('../')\n",
    "import src.analysis_functions as analysis_functions\n",
    "import src.simulation_metadata as sims"
   ]
  },
  {
   "cell_type": "code",
   "execution_count": 53,
   "metadata": {},
   "outputs": [],
   "source": [
    "sim_list = [sims.PfHT_MMV_crystal, \n",
    "            sims.PfHT_MMV8_crystal, \n",
    "            sims.W412A_MMV_crystal,\n",
    "            #sims.GLUT3_MMV_crystal\n",
    "            ]\n",
    "\n",
    "sim_list = [sims.PfHT_MMV12, \n",
    "            sims.PfHT_MMV8, \n",
    "            sims.W412A_MMV12,\n",
    "#            #sims.GLUT3_MMV_crystal\n",
    "            ]\n",
    "\n",
    "color_l = [sim.color for sim in sim_list]\n",
    "\n",
    "all_unis, all_lens = analysis_functions.load_unis(\n",
    "    sim_list= sim_list\n",
    ")\n"
   ]
  },
  {
   "cell_type": "code",
   "execution_count": 54,
   "metadata": {},
   "outputs": [],
   "source": [
    "all_fp_dfs = {}\n",
    "skip = 1\n",
    "\n",
    "for sim in sim_list:\n",
    "    temp_fp_dfs = []\n",
    "    for n, rep_fp in enumerate(all_unis[sim.name]):\n",
    "        df = analysis_functions.get_fp_dataframe(\n",
    "            u=rep_fp,\n",
    "            skip=skip,\n",
    "            run_calc=False,\n",
    "            filename=f\"{sim.name}.replica_{n+1}.skip{skip}\",\n",
    "        )\n",
    "        temp_fp_dfs.append(df)\n",
    "    all_fp_dfs[sim.name] = temp_fp_dfs\n"
   ]
  },
  {
   "attachments": {},
   "cell_type": "markdown",
   "metadata": {},
   "source": [
    "# Calculate percentage of whatever interaction you want\n",
    "Just find where t.ex TRP412 (or equivalent) is in the dataframe, then take mean\n",
    "\n",
    "#### Pt 1 - First function `mean_intxns_per_res_wide` will output a df for one residue. You can plot this directly comparing interaction types"
   ]
  },
  {
   "attachments": {},
   "cell_type": "markdown",
   "metadata": {},
   "source": [
    "##### `res_map` will help with residue numbering and labeling, since it's different between PfHT and GLUTs osv"
   ]
  },
  {
   "cell_type": "code",
   "execution_count": 55,
   "metadata": {},
   "outputs": [],
   "source": [
    "res_map = {\"W412\":{'PfHT1':'TRP391', 'GLUT1':'TRP381'},\n",
    "           \"Q169\":{'PfHT1':'GLN148', 'GLUT1':'GLN154'},\n",
    "           \"Q305\":{'PfHT1':\"GLN284\"},\n",
    "           \"Q306\":{'PfHT1':\"GLN285\"},\n",
    "           \"N341\":{'PfHT1':'ASN320'}\n",
    "           \n",
    "           }\n"
   ]
  },
  {
   "cell_type": "code",
   "execution_count": 56,
   "metadata": {},
   "outputs": [
    {
     "data": {
      "text/plain": [
       "320"
      ]
     },
     "execution_count": 56,
     "metadata": {},
     "output_type": "execute_result"
    }
   ],
   "source": [
    "341-21"
   ]
  },
  {
   "attachments": {},
   "cell_type": "markdown",
   "metadata": {},
   "source": [
    "#### then, use this function to get the mean interactions per residue. Will return a wide dataframe with the top level being protein condition, the lower level being the replica, and index being interaction type"
   ]
  },
  {
   "cell_type": "code",
   "execution_count": 57,
   "metadata": {},
   "outputs": [],
   "source": [
    "def mean_intxns_per_res_wide(\n",
    "        resname: str,\n",
    "        all_fp_dfs: dict=all_fp_dfs,\n",
    "        res_map: dict=res_map,\n",
    "        sim_list: list=sim_list,\n",
    "        mean_cutoff: int=0.1,\n",
    ") -> pd.DataFrame:\n",
    "    '''\n",
    "    Will loop through the sim_list\n",
    "    For each element in list, loop through all reps of this element, finding the \n",
    "    fingerprint for the given residue. This is dictated by res_map, seen in the cell above\n",
    "    \n",
    "    Find all intxns for this res, then combine all replicas (mean_intxn_all_reps), \n",
    "    then combine all conditions, left with a wide dataframe called mean_intxn_all_conds\n",
    "    '''\n",
    "    \n",
    "    mean_intxn_all_conds = {}\n",
    "    for sim in sim_list:\n",
    "        replica_names = [f\"replica {i}\" for i in range(1, sim.n_replicas + 1)]\n",
    "\n",
    "        ### group replicas as cols into a wide dataframe\n",
    "        mean_intxn_all_reps = []\n",
    "        for rep in all_fp_dfs[sim.name]:\n",
    "\n",
    "            #res_map[resname][PfHT1] will return TRP391 for W412, t.ex\n",
    "            # need a special case for w412\n",
    "            if \"W412\" in sim.name and resname == 'W412':\n",
    "                try:\n",
    "                    mean_intxn = rep[\"ALA391\"].mean()\n",
    "                except KeyError:\n",
    "                    pass ## passing is fine because will become nan later\n",
    "            else:\n",
    "                try:\n",
    "                    mean_intxn = rep[res_map[resname][sim.protein]].mean()\n",
    "                except KeyError:\n",
    "                    pass\n",
    "            mean_intxn = mean_intxn.loc[mean_intxn > mean_cutoff]\n",
    "            mean_intxn_all_reps.append(mean_intxn)\n",
    "        mean_intxn_all_reps = pd.concat(mean_intxn_all_reps, axis=1, keys=replica_names)\n",
    "        \n",
    "        ### then group conditions as cols into wide(r) dataframe\n",
    "        mean_intxn_all_conds[sim.name] = mean_intxn_all_reps\n",
    "    mean_intxn_all_conds = pd.concat(mean_intxn_all_conds, axis=1)\n",
    "\n",
    "    return mean_intxn_all_conds"
   ]
  },
  {
   "cell_type": "code",
   "execution_count": 58,
   "metadata": {},
   "outputs": [],
   "source": [
    "mean_intxn_all_conds = mean_intxns_per_res_wide(\n",
    "                                                resname='Q169',\n",
    "                                                sim_list=sim_list,\n",
    "                                                all_fp_dfs=all_fp_dfs\n",
    "                                            )\n",
    "\n",
    "mean_intxn_all_conds = mean_intxn_all_conds.fillna(0)\n",
    "#mean_intxn_all_conds = mean_intxn_all_conds.drop('Hydrophobic') #I don't find this so useful, remove"
   ]
  },
  {
   "attachments": {},
   "cell_type": "markdown",
   "metadata": {},
   "source": [
    "#### use `analysis_functions.process_df_wide` to make this into a long form dataframe"
   ]
  },
  {
   "cell_type": "code",
   "execution_count": 40,
   "metadata": {},
   "outputs": [],
   "source": [
    "mean_intxn_all_conds = analysis_functions.process_wide_df(\n",
    "    df=mean_intxn_all_conds,\n",
    "    index_col_name='interaction',\n",
    "    index_name='interaction',\n",
    "    top_level_melt_name='protein',\n",
    "    lower_level_melt_name='replica'\n",
    ")"
   ]
  },
  {
   "attachments": {},
   "cell_type": "markdown",
   "metadata": {},
   "source": [
    "#### plot in seaborn"
   ]
  },
  {
   "cell_type": "code",
   "execution_count": 42,
   "metadata": {},
   "outputs": [
    {
     "data": {
      "text/plain": [
       "(0.0, 1.0)"
      ]
     },
     "execution_count": 42,
     "metadata": {},
     "output_type": "execute_result"
    },
    {
     "data": {
      "image/png": "[encoded data removed]",
      "text/plain": [
       "<Figure size 640x480 with 1 Axes>"
      ]
     },
     "metadata": {},
     "output_type": "display_data"
    }
   ],
   "source": [
    "f,ax=plt.subplots(1,1)\n",
    "sns.barplot(data=mean_intxn_all_conds,\n",
    "            y='value', \n",
    "            x='interaction', \n",
    "            hue='protein',\n",
    "            ax=ax,\n",
    "            errorbar=None)\n",
    "\n",
    "\n",
    "sns.stripplot(\n",
    "    data=mean_intxn_all_conds,\n",
    "    y='value',\n",
    "    x='interaction',\n",
    "    hue='protein',\n",
    "    ax=ax,\n",
    "    dodge=True,\n",
    "    alpha=0.6,\n",
    "    edgecolor=\"black\",\n",
    "    linewidth=0.5,\n",
    "    legend=False,\n",
    "    size=10,\n",
    ")\n",
    "\n",
    "ax.set_ylim(0,1)"
   ]
  },
  {
   "cell_type": "code",
   "execution_count": 59,
   "metadata": {},
   "outputs": [
    {
     "data": {
      "text/plain": [
       "<Axes: >"
      ]
     },
     "execution_count": 59,
     "metadata": {},
     "output_type": "execute_result"
    },
    {
     "data": {
      "image/png": "[encoded data removed]",
      "text/plain": [
       "<Figure size 640x480 with 1 Axes>"
      ]
     },
     "metadata": {},
     "output_type": "display_data"
    }
   ],
   "source": [
    "mean_intxn_all_conds.T.plot.bar(stacked=True, color=color_l)  #this is before making longform"
   ]
  },
  {
   "cell_type": "code",
   "execution_count": 60,
   "metadata": {},
   "outputs": [
    {
     "data": {
      "text/html": [
       "<div>\n",
       "<style scoped>\n",
       "    .dataframe tbody tr th:only-of-type {\n",
       "        vertical-align: middle;\n",
       "    }\n",
       "\n",
       "    .dataframe tbody tr th {\n",
       "        vertical-align: top;\n",
       "    }\n",
       "\n",
       "    .dataframe thead tr th {\n",
       "        text-align: left;\n",
       "    }\n",
       "\n",
       "    .dataframe thead tr:last-of-type th {\n",
       "        text-align: right;\n",
       "    }\n",
       "</style>\n",
       "<table border=\"1\" class=\"dataframe\">\n",
       "  <thead>\n",
       "    <tr>\n",
       "      <th></th>\n",
       "      <th colspan=\"3\" halign=\"left\">PfHT_MMV12</th>\n",
       "      <th colspan=\"3\" halign=\"left\">PfHT_MMV8</th>\n",
       "      <th colspan=\"3\" halign=\"left\">W412A_MMV12</th>\n",
       "    </tr>\n",
       "    <tr>\n",
       "      <th></th>\n",
       "      <th>replica 1</th>\n",
       "      <th>replica 2</th>\n",
       "      <th>replica 3</th>\n",
       "      <th>replica 1</th>\n",
       "      <th>replica 2</th>\n",
       "      <th>replica 3</th>\n",
       "      <th>replica 1</th>\n",
       "      <th>replica 2</th>\n",
       "      <th>replica 3</th>\n",
       "    </tr>\n",
       "    <tr>\n",
       "      <th>interaction</th>\n",
       "      <th></th>\n",
       "      <th></th>\n",
       "      <th></th>\n",
       "      <th></th>\n",
       "      <th></th>\n",
       "      <th></th>\n",
       "      <th></th>\n",
       "      <th></th>\n",
       "      <th></th>\n",
       "    </tr>\n",
       "  </thead>\n",
       "  <tbody>\n",
       "    <tr>\n",
       "      <th>HBAcceptor</th>\n",
       "      <td>0.918082</td>\n",
       "      <td>0.925075</td>\n",
       "      <td>0.147852</td>\n",
       "      <td>0.0</td>\n",
       "      <td>0.738889</td>\n",
       "      <td>0.142695</td>\n",
       "      <td>0.900407</td>\n",
       "      <td>0.110889</td>\n",
       "      <td>0.888143</td>\n",
       "    </tr>\n",
       "    <tr>\n",
       "      <th>VdWContact</th>\n",
       "      <td>0.972028</td>\n",
       "      <td>0.963037</td>\n",
       "      <td>0.702298</td>\n",
       "      <td>0.0</td>\n",
       "      <td>0.822222</td>\n",
       "      <td>0.191393</td>\n",
       "      <td>0.943089</td>\n",
       "      <td>0.115884</td>\n",
       "      <td>0.917226</td>\n",
       "    </tr>\n",
       "    <tr>\n",
       "      <th>Hydrophobic</th>\n",
       "      <td>0.000000</td>\n",
       "      <td>0.000000</td>\n",
       "      <td>0.230769</td>\n",
       "      <td>0.0</td>\n",
       "      <td>0.000000</td>\n",
       "      <td>0.000000</td>\n",
       "      <td>0.000000</td>\n",
       "      <td>0.000000</td>\n",
       "      <td>0.000000</td>\n",
       "    </tr>\n",
       "  </tbody>\n",
       "</table>\n",
       "</div>"
      ],
      "text/plain": [
       "            PfHT_MMV12                     PfHT_MMV8                      \\\n",
       "             replica 1 replica 2 replica 3 replica 1 replica 2 replica 3   \n",
       "interaction                                                                \n",
       "HBAcceptor    0.918082  0.925075  0.147852       0.0  0.738889  0.142695   \n",
       "VdWContact    0.972028  0.963037  0.702298       0.0  0.822222  0.191393   \n",
       "Hydrophobic   0.000000  0.000000  0.230769       0.0  0.000000  0.000000   \n",
       "\n",
       "            W412A_MMV12                      \n",
       "              replica 1 replica 2 replica 3  \n",
       "interaction                                  \n",
       "HBAcceptor     0.900407  0.110889  0.888143  \n",
       "VdWContact     0.943089  0.115884  0.917226  \n",
       "Hydrophobic    0.000000  0.000000  0.000000  "
      ]
     },
     "execution_count": 60,
     "metadata": {},
     "output_type": "execute_result"
    }
   ],
   "source": [
    "mean_intxn_all_conds"
   ]
  },
  {
   "cell_type": "code",
   "execution_count": null,
   "metadata": {},
   "outputs": [],
   "source": []
  },
  {
   "cell_type": "code",
   "execution_count": null,
   "metadata": {},
   "outputs": [],
   "source": []
  },
  {
   "cell_type": "code",
   "execution_count": null,
   "metadata": {},
   "outputs": [],
   "source": []
  },
  {
   "cell_type": "code",
   "execution_count": null,
   "metadata": {},
   "outputs": [],
   "source": []
  },
  {
   "cell_type": "code",
   "execution_count": null,
   "metadata": {},
   "outputs": [],
   "source": []
  },
  {
   "attachments": {},
   "cell_type": "markdown",
   "metadata": {},
   "source": []
  }
 ],
 "metadata": {
  "kernelspec": {
   "display_name": "prolif",
   "language": "python",
   "name": "python3"
  },
  "language_info": {
   "codemirror_mode": {
    "name": "ipython",
    "version": 3
   },
   "file_extension": ".py",
   "mimetype": "text/x-python",
   "name": "python",
   "nbconvert_exporter": "python",
   "pygments_lexer": "ipython3",
   "version": "3.9.16"
  },
  "orig_nbformat": 4
 },
 "nbformat": 4,
 "nbformat_minor": 2
}
