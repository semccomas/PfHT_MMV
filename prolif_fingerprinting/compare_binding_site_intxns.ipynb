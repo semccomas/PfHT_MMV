{
 "cells": [
  {
   "attachments": {},
   "cell_type": "markdown",
   "metadata": {},
   "source": [
    "#### Similar to the `compare lig_res_interactions_by_type`, the goal here is compare interactions between simulations, only here is about specific residues, not specific interactions\n",
    "\n",
    "This used to be a same part of that script when it was a sandbox script, but I figured it would be best that this is alone now\n",
    "\n",
    "\n",
    "This is going to be used to measure how interactions are between conditions (eg showing that crystal sims don't have very different fingerprints, whereas EM does)"
   ]
  },
  {
   "cell_type": "code",
   "execution_count": 1,
   "metadata": {},
   "outputs": [],
   "source": [
    "import numpy as np\n",
    "import sys\n",
    "import matplotlib.pyplot as plt\n",
    "import prolif as plf\n",
    "import MDAnalysis as mda\n",
    "import pandas as pd\n",
    "import seaborn as sns\n",
    "\n",
    "sys.path.append('../')\n",
    "import src.analysis_functions as analysis_functions\n",
    "import src.simulation_metadata as sims\n",
    "from src.figure_parameters import figure_rc_params\n",
    "import matplotlib as mpl"
   ]
  },
  {
   "cell_type": "code",
   "execution_count": 6,
   "metadata": {},
   "outputs": [
    {
     "name": "stderr",
     "output_type": "stream",
     "text": [
      "/home/semccomas/anaconda3/envs/prolif/lib/python3.9/site-packages/MDAnalysis/coordinates/XDR.py:203: UserWarning: Cannot write lock/offset file in same location as {self.filename}. Using slow offset calculation.\n",
      "  warnings.warn(f\"Cannot write lock/offset file in same location as \"\n",
      "/home/semccomas/anaconda3/envs/prolif/lib/python3.9/site-packages/MDAnalysis/coordinates/XDR.py:259: UserWarning: Couldn't save offsets because: [Errno 13] Permission denied: '/data/PfHT_MMV/analysis/mnt_marta/.protlig.pfht1_bf1_tosh.4.skip250.xtc_offsets.npz'\n",
      "  warnings.warn(\"Couldn't save offsets because: {}\".format(e))\n",
      "/home/semccomas/anaconda3/envs/prolif/lib/python3.9/site-packages/MDAnalysis/coordinates/XDR.py:259: UserWarning: Couldn't save offsets because: [Errno 13] Permission denied: '/data/PfHT_MMV/analysis/mnt_marta/.protlig.pfht1_bf1_tosh.5.skip250.xtc_offsets.npz'\n",
      "  warnings.warn(\"Couldn't save offsets because: {}\".format(e))\n"
     ]
    }
   ],
   "source": [
    "sim_list=[sims.PfHT_bf1_tosh]\n",
    "all_unis, all_lens = analysis_functions.load_unis_marta(\n",
    "    sim_list = sim_list,\n",
    "    filename_tpr='',\n",
    "    filename_xtc = 'protlig.pfht1_bf1_tosh')"
   ]
  },
  {
   "cell_type": "code",
   "execution_count": 2,
   "metadata": {},
   "outputs": [],
   "source": [
    "crystal_or_em = 'em_binding_fp'\n",
    "\n",
    "if crystal_or_em == 'crystal_binding_fp':\n",
    "    sim_list = [sims.PfHT_MMV_crystal, \n",
    "                sims.PfHT_MMV8_crystal, \n",
    "                sims.W412A_MMV_crystal,\n",
    "                sims.GLUT3_MMV_crystal\n",
    "                ]\n",
    "elif crystal_or_em == 'em_binding_fp':\n",
    "    sim_list = [sims.PfHT_MMV12, \n",
    "                sims.PfHT_MMV8, \n",
    "                sims.W412A_MMV12,\n",
    "                sims.GLUT1_MMV12\n",
    "                ]\n",
    "\n",
    "#sim_list = [sims.PfHT_3361_em, sims.PfHT_3361_crystal]\n",
    "\n",
    "color_l = [sim.color for sim in sim_list]\n",
    "\n",
    "all_unis, all_lens = analysis_functions.load_unis(\n",
    "    sim_list= sim_list\n",
    ")\n",
    " "
   ]
  },
  {
   "cell_type": "code",
   "execution_count": 19,
   "metadata": {},
   "outputs": [
    {
     "data": {
      "application/vnd.jupyter.widget-view+json": {
       "model_id": "a41f9e4c94a14c348cb6c8ddef913c78",
       "version_major": 2,
       "version_minor": 0
      },
      "text/plain": [
       "  0%|          | 0/2 [00:00<?, ?it/s]"
      ]
     },
     "metadata": {},
     "output_type": "display_data"
    },
    {
     "data": {
      "application/vnd.jupyter.widget-view+json": {
       "model_id": "c2f743eb2da8413da7d95e0d604418f7",
       "version_major": 2,
       "version_minor": 0
      },
      "text/plain": [
       "  0%|          | 0/2 [00:00<?, ?it/s]"
      ]
     },
     "metadata": {},
     "output_type": "display_data"
    },
    {
     "data": {
      "application/vnd.jupyter.widget-view+json": {
       "model_id": "abf6b3a78b4541bd9771714161cb6834",
       "version_major": 2,
       "version_minor": 0
      },
      "text/plain": [
       "  0%|          | 0/1 [00:00<?, ?it/s]"
      ]
     },
     "metadata": {},
     "output_type": "display_data"
    },
    {
     "ename": "KeyboardInterrupt",
     "evalue": "",
     "output_type": "error",
     "traceback": [
      "\u001b[0;31m---------------------------------------------------------------------------\u001b[0m",
      "\u001b[0;31mIndexError\u001b[0m                                Traceback (most recent call last)",
      "\u001b[0;32m~/anaconda3/envs/prolif/lib/python3.9/multiprocessing/pool.py\u001b[0m in \u001b[0;36mnext\u001b[0;34m(self, timeout)\u001b[0m\n\u001b[1;32m    852\u001b[0m             \u001b[0;32mtry\u001b[0m\u001b[0;34m:\u001b[0m\u001b[0;34m\u001b[0m\u001b[0;34m\u001b[0m\u001b[0m\n\u001b[0;32m--> 853\u001b[0;31m                 \u001b[0mitem\u001b[0m \u001b[0;34m=\u001b[0m \u001b[0mself\u001b[0m\u001b[0;34m.\u001b[0m\u001b[0m_items\u001b[0m\u001b[0;34m.\u001b[0m\u001b[0mpopleft\u001b[0m\u001b[0;34m(\u001b[0m\u001b[0;34m)\u001b[0m\u001b[0;34m\u001b[0m\u001b[0;34m\u001b[0m\u001b[0m\n\u001b[0m\u001b[1;32m    854\u001b[0m             \u001b[0;32mexcept\u001b[0m \u001b[0mIndexError\u001b[0m\u001b[0;34m:\u001b[0m\u001b[0;34m\u001b[0m\u001b[0;34m\u001b[0m\u001b[0m\n",
      "\u001b[0;31mIndexError\u001b[0m: pop from an empty deque",
      "\nDuring handling of the above exception, another exception occurred:\n",
      "\u001b[0;31mKeyboardInterrupt\u001b[0m                         Traceback (most recent call last)",
      "\u001b[0;32m/tmp/ipykernel_375021/1100532948.py\u001b[0m in \u001b[0;36m<module>\u001b[0;34m\u001b[0m\n\u001b[1;32m      5\u001b[0m     \u001b[0mtemp_fp_dfs\u001b[0m \u001b[0;34m=\u001b[0m \u001b[0;34m[\u001b[0m\u001b[0;34m]\u001b[0m\u001b[0;34m\u001b[0m\u001b[0;34m\u001b[0m\u001b[0m\n\u001b[1;32m      6\u001b[0m     \u001b[0;32mfor\u001b[0m \u001b[0mn\u001b[0m\u001b[0;34m,\u001b[0m \u001b[0mrep_fp\u001b[0m \u001b[0;32min\u001b[0m \u001b[0menumerate\u001b[0m\u001b[0;34m(\u001b[0m\u001b[0mall_unis\u001b[0m\u001b[0;34m[\u001b[0m\u001b[0msim\u001b[0m\u001b[0;34m.\u001b[0m\u001b[0mname\u001b[0m\u001b[0;34m]\u001b[0m\u001b[0;34m)\u001b[0m\u001b[0;34m:\u001b[0m\u001b[0;34m\u001b[0m\u001b[0;34m\u001b[0m\u001b[0m\n\u001b[0;32m----> 7\u001b[0;31m         df = analysis_functions.get_fp_dataframe(\n\u001b[0m\u001b[1;32m      8\u001b[0m             \u001b[0mu\u001b[0m\u001b[0;34m=\u001b[0m\u001b[0mrep_fp\u001b[0m\u001b[0;34m,\u001b[0m\u001b[0;34m\u001b[0m\u001b[0;34m\u001b[0m\u001b[0m\n\u001b[1;32m      9\u001b[0m             \u001b[0mskip\u001b[0m\u001b[0;34m=\u001b[0m\u001b[0;36m500\u001b[0m\u001b[0;34m,\u001b[0m\u001b[0;34m\u001b[0m\u001b[0;34m\u001b[0m\u001b[0m\n",
      "\u001b[0;32m/data/PfHT_MMV/analysis/scripts/prolif_fingerprinting/../src/analysis_functions.py\u001b[0m in \u001b[0;36mget_fp_dataframe\u001b[0;34m(u, skip, ligname, run_calc, filename, filename_path)\u001b[0m\n\u001b[1;32m    164\u001b[0m         \u001b[0mfp\u001b[0m \u001b[0;34m=\u001b[0m \u001b[0mplf\u001b[0m\u001b[0;34m.\u001b[0m\u001b[0mFingerprint\u001b[0m\u001b[0;34m(\u001b[0m\u001b[0;34m)\u001b[0m\u001b[0;34m\u001b[0m\u001b[0;34m\u001b[0m\u001b[0m\n\u001b[1;32m    165\u001b[0m         \u001b[0;32mif\u001b[0m \u001b[0mskip\u001b[0m \u001b[0;34m!=\u001b[0m \u001b[0;36m1\u001b[0m\u001b[0;34m:\u001b[0m\u001b[0;34m\u001b[0m\u001b[0;34m\u001b[0m\u001b[0m\n\u001b[0;32m--> 166\u001b[0;31m             \u001b[0mfp\u001b[0m\u001b[0;34m.\u001b[0m\u001b[0mrun\u001b[0m\u001b[0;34m(\u001b[0m\u001b[0mu\u001b[0m\u001b[0;34m.\u001b[0m\u001b[0mtrajectory\u001b[0m\u001b[0;34m[\u001b[0m\u001b[0;34m:\u001b[0m\u001b[0;34m:\u001b[0m\u001b[0mskip\u001b[0m\u001b[0;34m]\u001b[0m\u001b[0;34m,\u001b[0m \u001b[0mligand\u001b[0m\u001b[0;34m,\u001b[0m \u001b[0mprotein\u001b[0m\u001b[0;34m)\u001b[0m\u001b[0;34m\u001b[0m\u001b[0;34m\u001b[0m\u001b[0m\n\u001b[0m\u001b[1;32m    167\u001b[0m         \u001b[0;32melse\u001b[0m\u001b[0;34m:\u001b[0m  \u001b[0;31m# MDA does not like if skip == 1 and you don't provide start and stop\u001b[0m\u001b[0;34m\u001b[0m\u001b[0;34m\u001b[0m\u001b[0m\n\u001b[1;32m    168\u001b[0m             \u001b[0mfp\u001b[0m\u001b[0;34m.\u001b[0m\u001b[0mrun\u001b[0m\u001b[0;34m(\u001b[0m\u001b[0mu\u001b[0m\u001b[0;34m.\u001b[0m\u001b[0mtrajectory\u001b[0m\u001b[0;34m,\u001b[0m \u001b[0mligand\u001b[0m\u001b[0;34m,\u001b[0m \u001b[0mprotein\u001b[0m\u001b[0;34m)\u001b[0m\u001b[0;34m\u001b[0m\u001b[0;34m\u001b[0m\u001b[0m\n",
      "\u001b[0;32m~/anaconda3/envs/prolif/lib/python3.9/site-packages/prolif/fingerprint.py\u001b[0m in \u001b[0;36mrun\u001b[0;34m(self, traj, lig, prot, residues, converter_kwargs, progress, n_jobs)\u001b[0m\n\u001b[1;32m    454\u001b[0m             \u001b[0;32mraise\u001b[0m \u001b[0mValueError\u001b[0m\u001b[0;34m(\u001b[0m\u001b[0;34m\"converter_kwargs must be a list of 2 dicts\"\u001b[0m\u001b[0;34m)\u001b[0m\u001b[0;34m\u001b[0m\u001b[0;34m\u001b[0m\u001b[0m\n\u001b[1;32m    455\u001b[0m         \u001b[0;32mif\u001b[0m \u001b[0mn_jobs\u001b[0m \u001b[0;34m!=\u001b[0m \u001b[0;36m1\u001b[0m\u001b[0;34m:\u001b[0m\u001b[0;34m\u001b[0m\u001b[0;34m\u001b[0m\u001b[0m\n\u001b[0;32m--> 456\u001b[0;31m             return self._run_parallel(\n\u001b[0m\u001b[1;32m    457\u001b[0m                 \u001b[0mtraj\u001b[0m\u001b[0;34m,\u001b[0m\u001b[0;34m\u001b[0m\u001b[0;34m\u001b[0m\u001b[0m\n\u001b[1;32m    458\u001b[0m                 \u001b[0mlig\u001b[0m\u001b[0;34m,\u001b[0m\u001b[0;34m\u001b[0m\u001b[0;34m\u001b[0m\u001b[0m\n",
      "\u001b[0;32m~/anaconda3/envs/prolif/lib/python3.9/site-packages/prolif/fingerprint.py\u001b[0m in \u001b[0;36m_run_parallel\u001b[0;34m(self, traj, lig, prot, residues, converter_kwargs, progress, n_jobs)\u001b[0m\n\u001b[1;32m    522\u001b[0m             \u001b[0margs\u001b[0m \u001b[0;34m=\u001b[0m \u001b[0;34m(\u001b[0m\u001b[0;34m(\u001b[0m\u001b[0mtraj\u001b[0m\u001b[0;34m,\u001b[0m \u001b[0mlig\u001b[0m\u001b[0;34m,\u001b[0m \u001b[0mprot\u001b[0m\u001b[0;34m,\u001b[0m \u001b[0mchunk\u001b[0m\u001b[0;34m)\u001b[0m \u001b[0;32mfor\u001b[0m \u001b[0mchunk\u001b[0m \u001b[0;32min\u001b[0m \u001b[0mchunks\u001b[0m\u001b[0;34m)\u001b[0m\u001b[0;34m\u001b[0m\u001b[0;34m\u001b[0m\u001b[0m\n\u001b[1;32m    523\u001b[0m             \u001b[0mresults\u001b[0m \u001b[0;34m=\u001b[0m \u001b[0;34m[\u001b[0m\u001b[0;34m]\u001b[0m\u001b[0;34m\u001b[0m\u001b[0;34m\u001b[0m\u001b[0m\n\u001b[0;32m--> 524\u001b[0;31m             \u001b[0;32mfor\u001b[0m \u001b[0mifp\u001b[0m \u001b[0;32min\u001b[0m \u001b[0mpool\u001b[0m\u001b[0;34m.\u001b[0m\u001b[0mimap_unordered\u001b[0m\u001b[0;34m(\u001b[0m\u001b[0mprocess_chunk\u001b[0m\u001b[0;34m,\u001b[0m \u001b[0margs\u001b[0m\u001b[0;34m)\u001b[0m\u001b[0;34m:\u001b[0m\u001b[0;34m\u001b[0m\u001b[0;34m\u001b[0m\u001b[0m\n\u001b[0m\u001b[1;32m    525\u001b[0m                 \u001b[0mresults\u001b[0m\u001b[0;34m.\u001b[0m\u001b[0mextend\u001b[0m\u001b[0;34m(\u001b[0m\u001b[0mifp\u001b[0m\u001b[0;34m)\u001b[0m\u001b[0;34m\u001b[0m\u001b[0;34m\u001b[0m\u001b[0m\n\u001b[1;32m    526\u001b[0m         \u001b[0mresults\u001b[0m\u001b[0;34m.\u001b[0m\u001b[0msort\u001b[0m\u001b[0;34m(\u001b[0m\u001b[0mkey\u001b[0m\u001b[0;34m=\u001b[0m\u001b[0;32mlambda\u001b[0m \u001b[0mifp\u001b[0m\u001b[0;34m:\u001b[0m \u001b[0mifp\u001b[0m\u001b[0;34m[\u001b[0m\u001b[0;34m\"Frame\"\u001b[0m\u001b[0;34m]\u001b[0m\u001b[0;34m)\u001b[0m\u001b[0;34m\u001b[0m\u001b[0;34m\u001b[0m\u001b[0m\n",
      "\u001b[0;32m~/anaconda3/envs/prolif/lib/python3.9/multiprocessing/pool.py\u001b[0m in \u001b[0;36mnext\u001b[0;34m(self, timeout)\u001b[0m\n\u001b[1;32m    856\u001b[0m                     \u001b[0mself\u001b[0m\u001b[0;34m.\u001b[0m\u001b[0m_pool\u001b[0m \u001b[0;34m=\u001b[0m \u001b[0;32mNone\u001b[0m\u001b[0;34m\u001b[0m\u001b[0;34m\u001b[0m\u001b[0m\n\u001b[1;32m    857\u001b[0m                     \u001b[0;32mraise\u001b[0m \u001b[0mStopIteration\u001b[0m \u001b[0;32mfrom\u001b[0m \u001b[0;32mNone\u001b[0m\u001b[0;34m\u001b[0m\u001b[0;34m\u001b[0m\u001b[0m\n\u001b[0;32m--> 858\u001b[0;31m                 \u001b[0mself\u001b[0m\u001b[0;34m.\u001b[0m\u001b[0m_cond\u001b[0m\u001b[0;34m.\u001b[0m\u001b[0mwait\u001b[0m\u001b[0;34m(\u001b[0m\u001b[0mtimeout\u001b[0m\u001b[0;34m)\u001b[0m\u001b[0;34m\u001b[0m\u001b[0;34m\u001b[0m\u001b[0m\n\u001b[0m\u001b[1;32m    859\u001b[0m                 \u001b[0;32mtry\u001b[0m\u001b[0;34m:\u001b[0m\u001b[0;34m\u001b[0m\u001b[0;34m\u001b[0m\u001b[0m\n\u001b[1;32m    860\u001b[0m                     \u001b[0mitem\u001b[0m \u001b[0;34m=\u001b[0m \u001b[0mself\u001b[0m\u001b[0;34m.\u001b[0m\u001b[0m_items\u001b[0m\u001b[0;34m.\u001b[0m\u001b[0mpopleft\u001b[0m\u001b[0;34m(\u001b[0m\u001b[0;34m)\u001b[0m\u001b[0;34m\u001b[0m\u001b[0;34m\u001b[0m\u001b[0m\n",
      "\u001b[0;32m~/anaconda3/envs/prolif/lib/python3.9/threading.py\u001b[0m in \u001b[0;36mwait\u001b[0;34m(self, timeout)\u001b[0m\n\u001b[1;32m    310\u001b[0m         \u001b[0;32mtry\u001b[0m\u001b[0;34m:\u001b[0m    \u001b[0;31m# restore state no matter what (e.g., KeyboardInterrupt)\u001b[0m\u001b[0;34m\u001b[0m\u001b[0;34m\u001b[0m\u001b[0m\n\u001b[1;32m    311\u001b[0m             \u001b[0;32mif\u001b[0m \u001b[0mtimeout\u001b[0m \u001b[0;32mis\u001b[0m \u001b[0;32mNone\u001b[0m\u001b[0;34m:\u001b[0m\u001b[0;34m\u001b[0m\u001b[0;34m\u001b[0m\u001b[0m\n\u001b[0;32m--> 312\u001b[0;31m                 \u001b[0mwaiter\u001b[0m\u001b[0;34m.\u001b[0m\u001b[0macquire\u001b[0m\u001b[0;34m(\u001b[0m\u001b[0;34m)\u001b[0m\u001b[0;34m\u001b[0m\u001b[0;34m\u001b[0m\u001b[0m\n\u001b[0m\u001b[1;32m    313\u001b[0m                 \u001b[0mgotit\u001b[0m \u001b[0;34m=\u001b[0m \u001b[0;32mTrue\u001b[0m\u001b[0;34m\u001b[0m\u001b[0;34m\u001b[0m\u001b[0m\n\u001b[1;32m    314\u001b[0m             \u001b[0;32melse\u001b[0m\u001b[0;34m:\u001b[0m\u001b[0;34m\u001b[0m\u001b[0;34m\u001b[0m\u001b[0m\n",
      "\u001b[0;31mKeyboardInterrupt\u001b[0m: "
     ]
    }
   ],
   "source": [
    "all_fp_dfs = {}\n",
    "skip = 1\n",
    "\n",
    "for sim in sim_list:\n",
    "    temp_fp_dfs = []\n",
    "    for n, rep_fp in enumerate(all_unis[sim.name]):\n",
    "        df = analysis_functions.get_fp_dataframe(\n",
    "            u=rep_fp,\n",
    "            skip=500,\n",
    "            ligname=f\"resname {sim.ligname}\",\n",
    "            run_calc=True,\n",
    "            filename=f\"{sim.name}.replica_{n+1}.skip{skip}\",\n",
    "        )\n",
    "        temp_fp_dfs.append(df)\n",
    "    all_fp_dfs[sim.name] = temp_fp_dfs\n"
   ]
  },
  {
   "attachments": {},
   "cell_type": "markdown",
   "metadata": {},
   "source": [
    "# Calculate percentage of whatever interaction you want\n",
    "Just find where t.ex TRP412 (or equivalent) is in the dataframe, then take mean\n",
    "\n",
    "#### Pt 1 - First function `mean_intxns_per_res_wide` will output a df for one residue. You can plot this directly comparing interaction types"
   ]
  },
  {
   "attachments": {},
   "cell_type": "markdown",
   "metadata": {},
   "source": [
    "##### `res_map` will help with residue numbering and labeling, since it's different between PfHT and GLUTs osv"
   ]
  },
  {
   "cell_type": "code",
   "execution_count": 4,
   "metadata": {},
   "outputs": [],
   "source": [
    "res_map = {\"W412\":{'PfHT1':'TRP391', 'GLUT1':'TRP381', 'GLUT3':'TRP386'},\n",
    "           \"Q169\":{'PfHT1':'GLN148', 'GLUT1':'GLN154', 'GLUT3':'GLN159'},\n",
    "           \"Q305\":{'PfHT1':\"GLN284\", 'GLUT3':'GLN280', 'GLUT1':'GLN275'},\n",
    "           \"Q306\":{'PfHT1':\"GLN285\", 'GLUT3':'GLN281', 'GLUT1':'GLN276'},\n",
    "           \"N341\":{'PfHT1':'ASN320', 'GLUT3':'ASN315', 'GLUT1':'ASN310'},\n",
    "           \"N311\":{\"PfHT1\":'ASN290', 'GLUT3':'ASN286', 'GLUT1':'ASN281'},\n",
    "           \"W436\":{\"PfHT1\":'TRP415', 'GLUT3':'TRP410', 'GLUT1':'TRP405'},\n",
    "           \"A404\":{\"PfHT1\":'ALA383', 'GLUT3':'GLU378', 'GLUT1':'GLU373'},\n",
    "           \"S315\":{\"PfHT1\":'SER294', 'GLUT3':'TYR290', 'GLUT1':'TYR285'}, #for crystal str\n",
    "           'S432':{'PfHT1':'SER411', 'GLUT1':'GLY401'}, ## now this is EM binding site\n",
    "           'T173':{'PfHT1':'THR152', 'GLUT1':'VAL158'},\n",
    "           'L411':{'PfHT1':'LEU390', 'GLUT1':'PRO380'},\n",
    "           'H416':{'PfHT1':'HSD395', 'GLUT1':'ALA392'},\n",
    "           'K51':{'PfHT1':'LYS30', 'GLUT1':'GLN37', 'GLUT3':'GLU35'},\n",
    "           'N435':{'PfHT1':'ASN414', 'GLUT3':'ASN409', 'GLUT1':'ASN404'}, ### GLUT1 is -7 res, pfht is -21 #ASN411 glut1\n",
    "           'N316':{'PfHT1':'ASN295', 'GLUT3':'TYR291'},\n",
    "           'V44':{'PfHT1':'VAL23', 'GLUT3':'THR28'},\n",
    "           'N48':{'PfHT1':'ASN27', 'GLUT3':'ASN32'},\n",
    "           'K424':{'PfHT1':'LYS403', 'GLUT1':'ARG393'},\n",
    "           'D425':{'PfHT1':'ASP404', 'GLUT1':'PRO394'},\n",
    "           }\n",
    "\n",
    "res= 'D425'\n"
   ]
  },
  {
   "cell_type": "code",
   "execution_count": 5,
   "metadata": {},
   "outputs": [
    {
     "ename": "KeyError",
     "evalue": "'CYS71'",
     "output_type": "error",
     "traceback": [
      "\u001b[0;31m---------------------------------------------------------------------------\u001b[0m",
      "\u001b[0;31mKeyError\u001b[0m                                  Traceback (most recent call last)",
      "\u001b[0;32m/tmp/ipykernel_361640/3733379821.py\u001b[0m in \u001b[0;36m<module>\u001b[0;34m\u001b[0m\n\u001b[0;32m----> 1\u001b[0;31m \u001b[0mall_fp_dfs\u001b[0m\u001b[0;34m[\u001b[0m\u001b[0msims\u001b[0m\u001b[0;34m.\u001b[0m\u001b[0mPfHT_MMV12\u001b[0m\u001b[0;34m.\u001b[0m\u001b[0mname\u001b[0m\u001b[0;34m]\u001b[0m\u001b[0;34m[\u001b[0m\u001b[0;36m2\u001b[0m\u001b[0;34m]\u001b[0m\u001b[0;34m[\u001b[0m\u001b[0;34m'CYS71'\u001b[0m\u001b[0;34m]\u001b[0m\u001b[0;34m.\u001b[0m\u001b[0mmean\u001b[0m\u001b[0;34m(\u001b[0m\u001b[0;34m)\u001b[0m\u001b[0;34m\u001b[0m\u001b[0;34m\u001b[0m\u001b[0m\n\u001b[0m",
      "\u001b[0;32m~/anaconda3/envs/prolif/lib/python3.9/site-packages/pandas/core/frame.py\u001b[0m in \u001b[0;36m__getitem__\u001b[0;34m(self, key)\u001b[0m\n\u001b[1;32m   3758\u001b[0m         \u001b[0;32mif\u001b[0m \u001b[0mis_single_key\u001b[0m\u001b[0;34m:\u001b[0m\u001b[0;34m\u001b[0m\u001b[0;34m\u001b[0m\u001b[0m\n\u001b[1;32m   3759\u001b[0m             \u001b[0;32mif\u001b[0m \u001b[0mself\u001b[0m\u001b[0;34m.\u001b[0m\u001b[0mcolumns\u001b[0m\u001b[0;34m.\u001b[0m\u001b[0mnlevels\u001b[0m \u001b[0;34m>\u001b[0m \u001b[0;36m1\u001b[0m\u001b[0;34m:\u001b[0m\u001b[0;34m\u001b[0m\u001b[0;34m\u001b[0m\u001b[0m\n\u001b[0;32m-> 3760\u001b[0;31m                 \u001b[0;32mreturn\u001b[0m \u001b[0mself\u001b[0m\u001b[0;34m.\u001b[0m\u001b[0m_getitem_multilevel\u001b[0m\u001b[0;34m(\u001b[0m\u001b[0mkey\u001b[0m\u001b[0;34m)\u001b[0m\u001b[0;34m\u001b[0m\u001b[0;34m\u001b[0m\u001b[0m\n\u001b[0m\u001b[1;32m   3761\u001b[0m             \u001b[0mindexer\u001b[0m \u001b[0;34m=\u001b[0m \u001b[0mself\u001b[0m\u001b[0;34m.\u001b[0m\u001b[0mcolumns\u001b[0m\u001b[0;34m.\u001b[0m\u001b[0mget_loc\u001b[0m\u001b[0;34m(\u001b[0m\u001b[0mkey\u001b[0m\u001b[0;34m)\u001b[0m\u001b[0;34m\u001b[0m\u001b[0;34m\u001b[0m\u001b[0m\n\u001b[1;32m   3762\u001b[0m             \u001b[0;32mif\u001b[0m \u001b[0mis_integer\u001b[0m\u001b[0;34m(\u001b[0m\u001b[0mindexer\u001b[0m\u001b[0;34m)\u001b[0m\u001b[0;34m:\u001b[0m\u001b[0;34m\u001b[0m\u001b[0;34m\u001b[0m\u001b[0m\n",
      "\u001b[0;32m~/anaconda3/envs/prolif/lib/python3.9/site-packages/pandas/core/frame.py\u001b[0m in \u001b[0;36m_getitem_multilevel\u001b[0;34m(self, key)\u001b[0m\n\u001b[1;32m   3813\u001b[0m     \u001b[0;32mdef\u001b[0m \u001b[0m_getitem_multilevel\u001b[0m\u001b[0;34m(\u001b[0m\u001b[0mself\u001b[0m\u001b[0;34m,\u001b[0m \u001b[0mkey\u001b[0m\u001b[0;34m)\u001b[0m\u001b[0;34m:\u001b[0m\u001b[0;34m\u001b[0m\u001b[0;34m\u001b[0m\u001b[0m\n\u001b[1;32m   3814\u001b[0m         \u001b[0;31m# self.columns is a MultiIndex\u001b[0m\u001b[0;34m\u001b[0m\u001b[0;34m\u001b[0m\u001b[0m\n\u001b[0;32m-> 3815\u001b[0;31m         \u001b[0mloc\u001b[0m \u001b[0;34m=\u001b[0m \u001b[0mself\u001b[0m\u001b[0;34m.\u001b[0m\u001b[0mcolumns\u001b[0m\u001b[0;34m.\u001b[0m\u001b[0mget_loc\u001b[0m\u001b[0;34m(\u001b[0m\u001b[0mkey\u001b[0m\u001b[0;34m)\u001b[0m\u001b[0;34m\u001b[0m\u001b[0;34m\u001b[0m\u001b[0m\n\u001b[0m\u001b[1;32m   3816\u001b[0m         \u001b[0;32mif\u001b[0m \u001b[0misinstance\u001b[0m\u001b[0;34m(\u001b[0m\u001b[0mloc\u001b[0m\u001b[0;34m,\u001b[0m \u001b[0;34m(\u001b[0m\u001b[0mslice\u001b[0m\u001b[0;34m,\u001b[0m \u001b[0mnp\u001b[0m\u001b[0;34m.\u001b[0m\u001b[0mndarray\u001b[0m\u001b[0;34m)\u001b[0m\u001b[0;34m)\u001b[0m\u001b[0;34m:\u001b[0m\u001b[0;34m\u001b[0m\u001b[0;34m\u001b[0m\u001b[0m\n\u001b[1;32m   3817\u001b[0m             \u001b[0mnew_columns\u001b[0m \u001b[0;34m=\u001b[0m \u001b[0mself\u001b[0m\u001b[0;34m.\u001b[0m\u001b[0mcolumns\u001b[0m\u001b[0;34m[\u001b[0m\u001b[0mloc\u001b[0m\u001b[0;34m]\u001b[0m\u001b[0;34m\u001b[0m\u001b[0;34m\u001b[0m\u001b[0m\n",
      "\u001b[0;32m~/anaconda3/envs/prolif/lib/python3.9/site-packages/pandas/core/indexes/multi.py\u001b[0m in \u001b[0;36mget_loc\u001b[0;34m(self, key)\u001b[0m\n\u001b[1;32m   2810\u001b[0m \u001b[0;34m\u001b[0m\u001b[0m\n\u001b[1;32m   2811\u001b[0m         \u001b[0;32mif\u001b[0m \u001b[0;32mnot\u001b[0m \u001b[0misinstance\u001b[0m\u001b[0;34m(\u001b[0m\u001b[0mkey\u001b[0m\u001b[0;34m,\u001b[0m \u001b[0mtuple\u001b[0m\u001b[0;34m)\u001b[0m\u001b[0;34m:\u001b[0m\u001b[0;34m\u001b[0m\u001b[0;34m\u001b[0m\u001b[0m\n\u001b[0;32m-> 2812\u001b[0;31m             \u001b[0mloc\u001b[0m \u001b[0;34m=\u001b[0m \u001b[0mself\u001b[0m\u001b[0;34m.\u001b[0m\u001b[0m_get_level_indexer\u001b[0m\u001b[0;34m(\u001b[0m\u001b[0mkey\u001b[0m\u001b[0;34m,\u001b[0m \u001b[0mlevel\u001b[0m\u001b[0;34m=\u001b[0m\u001b[0;36m0\u001b[0m\u001b[0;34m)\u001b[0m\u001b[0;34m\u001b[0m\u001b[0;34m\u001b[0m\u001b[0m\n\u001b[0m\u001b[1;32m   2813\u001b[0m             \u001b[0;32mreturn\u001b[0m \u001b[0m_maybe_to_slice\u001b[0m\u001b[0;34m(\u001b[0m\u001b[0mloc\u001b[0m\u001b[0;34m)\u001b[0m\u001b[0;34m\u001b[0m\u001b[0;34m\u001b[0m\u001b[0m\n\u001b[1;32m   2814\u001b[0m \u001b[0;34m\u001b[0m\u001b[0m\n",
      "\u001b[0;32m~/anaconda3/envs/prolif/lib/python3.9/site-packages/pandas/core/indexes/multi.py\u001b[0m in \u001b[0;36m_get_level_indexer\u001b[0;34m(self, key, level, indexer)\u001b[0m\n\u001b[1;32m   3171\u001b[0m                 \u001b[0;32mif\u001b[0m \u001b[0;32mnot\u001b[0m \u001b[0mlocs\u001b[0m\u001b[0;34m.\u001b[0m\u001b[0many\u001b[0m\u001b[0;34m(\u001b[0m\u001b[0;34m)\u001b[0m\u001b[0;34m:\u001b[0m\u001b[0;34m\u001b[0m\u001b[0;34m\u001b[0m\u001b[0m\n\u001b[1;32m   3172\u001b[0m                     \u001b[0;31m# The label is present in self.levels[level] but unused:\u001b[0m\u001b[0;34m\u001b[0m\u001b[0;34m\u001b[0m\u001b[0m\n\u001b[0;32m-> 3173\u001b[0;31m                     \u001b[0;32mraise\u001b[0m \u001b[0mKeyError\u001b[0m\u001b[0;34m(\u001b[0m\u001b[0mkey\u001b[0m\u001b[0;34m)\u001b[0m\u001b[0;34m\u001b[0m\u001b[0;34m\u001b[0m\u001b[0m\n\u001b[0m\u001b[1;32m   3174\u001b[0m                 \u001b[0;32mreturn\u001b[0m \u001b[0mlocs\u001b[0m\u001b[0;34m\u001b[0m\u001b[0;34m\u001b[0m\u001b[0m\n\u001b[1;32m   3175\u001b[0m \u001b[0;34m\u001b[0m\u001b[0m\n",
      "\u001b[0;31mKeyError\u001b[0m: 'CYS71'"
     ]
    }
   ],
   "source": [
    "all_fp_dfs[sims.PfHT_MMV12.name][2]['CYS71'].mean()"
   ]
  },
  {
   "attachments": {},
   "cell_type": "markdown",
   "metadata": {},
   "source": [
    "#### then, use the `get_mean_intxn` and `wide_df_of_reps_conds` function to get the mean interactions per residue. \n",
    "return a wide dataframe with the top level being protein condition, the lower level being the replica, and index being interaction type"
   ]
  },
  {
   "cell_type": "code",
   "execution_count": 6,
   "metadata": {},
   "outputs": [],
   "source": [
    "def mean_intxn_by_type(\n",
    "        fp_df: pd.DataFrame,\n",
    "        sim: sims.SimulationMetadata,\n",
    "        resname: str,\n",
    "        res_map: dict=res_map,\n",
    "        mean_cutoff: int=0.1\n",
    ") -> pd.Series:\n",
    "    ''' \n",
    "    Calculate mean interaction time in a fingerprint df\n",
    "\n",
    "    Return a pandas series with index as interaction types\n",
    "    '''\n",
    "\n",
    "    ## need conditional for W412A sims\n",
    "    if 'W412' in sim.name and resname == 'W412':\n",
    "        if 'ALA391' in fp_df:\n",
    "            mean_intxn = fp_df['ALA391'].mean()\n",
    "        else:\n",
    "            mean_intxn = pd.Series([], name='interaction')\n",
    "    \n",
    "    else:\n",
    "        if res_map[resname][sim.protein] in fp_df:\n",
    "            mean_intxn = fp_df[res_map[resname][sim.protein]].mean()\n",
    "        else:\n",
    "            mean_intxn = pd.Series([], name='interaction')\n",
    "    \n",
    "    mean_intxn = mean_intxn.loc[mean_intxn > mean_cutoff]\n",
    "\n",
    "    return mean_intxn"
   ]
  },
  {
   "cell_type": "code",
   "execution_count": 7,
   "metadata": {},
   "outputs": [],
   "source": [
    "def mean_intxn_combined(\n",
    "        fp_df: pd.DataFrame,\n",
    "        sim: sims.SimulationMetadata,\n",
    "        resname: str,\n",
    "        res_map: dict=res_map,\n",
    "        drop_interactions: list=['VdWContact','Hydrophobic'],\n",
    "        mean_cutoff: int=0.1\n",
    ") -> pd.Series:\n",
    "    ''' \n",
    "    Calculate mean interaction time in a fingerprint df, combined across intxns\n",
    "    (so if both HBAcceptor and PiStacking, counts as one, if not anything, counts as zero)\n",
    "\n",
    "    Return a pandas series with \"Contact\" as index\n",
    "    '''\n",
    "\n",
    "    mapped_resname = res_map[resname][sim.protein]\n",
    "    \n",
    "    ## need conditional for W412A sims\n",
    "    if 'W412' in sim.name and resname == 'W412':\n",
    "        mapped_resname = 'ALA391'\n",
    "\n",
    "    if mapped_resname in fp_df:\n",
    "\n",
    "        n_zeros = (\n",
    "            fp_df[mapped_resname]\n",
    "            .drop(columns=drop_interactions, errors='ignore')\n",
    "            .mean(axis=1)\n",
    "            .value_counts()\n",
    "        )\n",
    "        \n",
    "        if 0 in n_zeros and not n_zeros.empty:\n",
    "            n_zeros = n_zeros[0]\n",
    "        elif n_zeros.empty:   #sometimes, only intxns are ones dropped, need to assign 100% zeros if so\n",
    "            n_zeros = len(fp_df)\n",
    "        else:\n",
    "            n_zeros = 0  # if you can't find any zeros and n_zeros exists, make n_zeros == 0 (means 100% binding)\n",
    "    else:\n",
    "        n_zeros = len(fp_df)  # all zeros if you can't find\n",
    "    \n",
    "    n_zeros = (len(fp_df) - n_zeros) / len(fp_df)\n",
    "    if n_zeros < mean_cutoff:\n",
    "        n_zeros = 0 \n",
    "    \n",
    "    mean_intxn = pd.Series(index=['Contact'], data=n_zeros, name='interaction')\n",
    "    return mean_intxn"
   ]
  },
  {
   "cell_type": "code",
   "execution_count": 8,
   "metadata": {},
   "outputs": [],
   "source": [
    "def wide_df_of_reps_conds(\n",
    "        resname: str,\n",
    "        all_fp_dfs: dict=all_fp_dfs,\n",
    "        res_map: dict=res_map,\n",
    "        sim_list: list=sim_list,\n",
    "        mean_cutoff: int=0.1,\n",
    "        by_type_or_combined: str='combined',\n",
    ") -> pd.DataFrame:\n",
    "    '''\n",
    "    Will loop through the sim_list\n",
    "    For each element in list, loop through all reps of this element, finding the \n",
    "    fingerprint for the given residue. This is dictated by res_map, seen in the cell above\n",
    "    then combine all conditions, left with a wide dataframe called mean_intxn_all_conds\n",
    "    '''\n",
    "    \n",
    "    mean_intxn_all_conds = {}\n",
    "    for sim in sim_list:\n",
    "        replica_names = [f\"replica {i}\" for i in range(1, sim.n_replicas + 1)]\n",
    "\n",
    "        ### group replicas as cols into a wide dataframe\n",
    "        mean_intxn_all_reps = []\n",
    "        for rep in all_fp_dfs[sim.name]:\n",
    "\n",
    "            if by_type_or_combined == 'by_type':\n",
    "                mean_intxn = mean_intxn_by_type(fp_df=rep,\n",
    "                                            sim=sim,\n",
    "                                            resname=resname)\n",
    "            \n",
    "            elif by_type_or_combined == 'combined':\n",
    "                mean_intxn = mean_intxn_combined(fp_df=rep,\n",
    "                                            sim=sim,\n",
    "                                            resname=resname)\n",
    "            \n",
    "\n",
    "\n",
    "            mean_intxn_all_reps.append(mean_intxn)\n",
    "        mean_intxn_all_reps = pd.concat(mean_intxn_all_reps, axis=1, keys=replica_names)\n",
    "        \n",
    "        ### then group conditions as cols into wide(r) dataframe\n",
    "        mean_intxn_all_conds[sim.name] = mean_intxn_all_reps\n",
    "    mean_intxn_all_conds = pd.concat(mean_intxn_all_conds, axis=1)\n",
    "    mean_intxn_all_conds.index.name='interaction' #somehow this gets lost\n",
    "    return mean_intxn_all_conds"
   ]
  },
  {
   "cell_type": "code",
   "execution_count": 9,
   "metadata": {},
   "outputs": [
    {
     "data": {
      "text/html": [
       "<div>\n",
       "<style scoped>\n",
       "    .dataframe tbody tr th:only-of-type {\n",
       "        vertical-align: middle;\n",
       "    }\n",
       "\n",
       "    .dataframe tbody tr th {\n",
       "        vertical-align: top;\n",
       "    }\n",
       "\n",
       "    .dataframe thead tr th {\n",
       "        text-align: left;\n",
       "    }\n",
       "\n",
       "    .dataframe thead tr:last-of-type th {\n",
       "        text-align: right;\n",
       "    }\n",
       "</style>\n",
       "<table border=\"1\" class=\"dataframe\">\n",
       "  <thead>\n",
       "    <tr>\n",
       "      <th></th>\n",
       "      <th colspan=\"3\" halign=\"left\">PfHT_MMV12</th>\n",
       "      <th colspan=\"3\" halign=\"left\">PfHT_MMV8</th>\n",
       "      <th colspan=\"3\" halign=\"left\">W412A_MMV12</th>\n",
       "      <th colspan=\"3\" halign=\"left\">GLUT1_MMV12</th>\n",
       "    </tr>\n",
       "    <tr>\n",
       "      <th></th>\n",
       "      <th>replica 1</th>\n",
       "      <th>replica 2</th>\n",
       "      <th>replica 3</th>\n",
       "      <th>replica 1</th>\n",
       "      <th>replica 2</th>\n",
       "      <th>replica 3</th>\n",
       "      <th>replica 1</th>\n",
       "      <th>replica 2</th>\n",
       "      <th>replica 3</th>\n",
       "      <th>replica 1</th>\n",
       "      <th>replica 2</th>\n",
       "      <th>replica 3</th>\n",
       "    </tr>\n",
       "    <tr>\n",
       "      <th>interaction</th>\n",
       "      <th></th>\n",
       "      <th></th>\n",
       "      <th></th>\n",
       "      <th></th>\n",
       "      <th></th>\n",
       "      <th></th>\n",
       "      <th></th>\n",
       "      <th></th>\n",
       "      <th></th>\n",
       "      <th></th>\n",
       "      <th></th>\n",
       "      <th></th>\n",
       "    </tr>\n",
       "  </thead>\n",
       "  <tbody>\n",
       "    <tr>\n",
       "      <th>Contact</th>\n",
       "      <td>0.612388</td>\n",
       "      <td>0.115884</td>\n",
       "      <td>0.776224</td>\n",
       "      <td>0</td>\n",
       "      <td>0</td>\n",
       "      <td>0</td>\n",
       "      <td>0</td>\n",
       "      <td>0.105894</td>\n",
       "      <td>0.346756</td>\n",
       "      <td>0</td>\n",
       "      <td>0</td>\n",
       "      <td>0</td>\n",
       "    </tr>\n",
       "  </tbody>\n",
       "</table>\n",
       "</div>"
      ],
      "text/plain": [
       "            PfHT_MMV12                     PfHT_MMV8                      \\\n",
       "             replica 1 replica 2 replica 3 replica 1 replica 2 replica 3   \n",
       "interaction                                                                \n",
       "Contact       0.612388  0.115884  0.776224         0         0         0   \n",
       "\n",
       "            W412A_MMV12                     GLUT1_MMV12                      \n",
       "              replica 1 replica 2 replica 3   replica 1 replica 2 replica 3  \n",
       "interaction                                                                  \n",
       "Contact               0  0.105894  0.346756           0         0         0  "
      ]
     },
     "execution_count": 9,
     "metadata": {},
     "output_type": "execute_result"
    }
   ],
   "source": [
    "mean_intxn_all_conds = wide_df_of_reps_conds(\n",
    "                                            resname=res,\n",
    "                                            sim_list=sim_list,\n",
    "                                            all_fp_dfs=all_fp_dfs\n",
    "                                        )\n",
    "\n",
    "mean_intxn_all_conds"
   ]
  },
  {
   "attachments": {},
   "cell_type": "markdown",
   "metadata": {},
   "source": [
    "Here it makes life a bit easier to add a conditional for if we want to see all interactions, or just the \"contact\" ones"
   ]
  },
  {
   "cell_type": "code",
   "execution_count": 10,
   "metadata": {},
   "outputs": [],
   "source": [
    "show_only_contact = True\n",
    "\n",
    "if show_only_contact:\n",
    "    mean_intxn_all_conds = wide_df_of_reps_conds(\n",
    "                                                resname=res,\n",
    "                                                sim_list=sim_list,\n",
    "                                                all_fp_dfs=all_fp_dfs,\n",
    "                                                by_type_or_combined='combined'\n",
    "                                            )\n",
    "else:\n",
    "    mean_intxn_all_conds = wide_df_of_reps_conds(\n",
    "                                                resname=res,\n",
    "                                                sim_list=sim_list,\n",
    "                                                all_fp_dfs=all_fp_dfs,\n",
    "                                                by_type_or_combined='by_type'\n",
    "                                            )\n"
   ]
  },
  {
   "cell_type": "code",
   "execution_count": null,
   "metadata": {},
   "outputs": [],
   "source": [
    "'''\n",
    " (\n",
    "        df.fillna(0.0)\n",
    "        .reset_index()\n",
    "        .rename({index_name: index_col_name}, axis=1)\n",
    "        .melt(\n",
    "            id_vars=[index_col_name],\n",
    "            var_name=[top_level_melt_name, lower_level_melt_name],\n",
    "        )\n",
    "'''"
   ]
  },
  {
   "attachments": {},
   "cell_type": "markdown",
   "metadata": {},
   "source": [
    "Since we want the order of the bar graphs to be the same, and contain same info, reindex on `intxn_index`\n",
    "- This will therefore automatically keep this order, and drop other interactions I don't care about, like Hydrophobic\n",
    "- Do `fillna` after to make all `nan` zero, so they appear on the bar graph as zeros"
   ]
  },
  {
   "cell_type": "code",
   "execution_count": 12,
   "metadata": {},
   "outputs": [
    {
     "data": {
      "text/html": [
       "<div>\n",
       "<style scoped>\n",
       "    .dataframe tbody tr th:only-of-type {\n",
       "        vertical-align: middle;\n",
       "    }\n",
       "\n",
       "    .dataframe tbody tr th {\n",
       "        vertical-align: top;\n",
       "    }\n",
       "\n",
       "    .dataframe thead tr th {\n",
       "        text-align: left;\n",
       "    }\n",
       "\n",
       "    .dataframe thead tr:last-of-type th {\n",
       "        text-align: right;\n",
       "    }\n",
       "</style>\n",
       "<table border=\"1\" class=\"dataframe\">\n",
       "  <thead>\n",
       "    <tr>\n",
       "      <th></th>\n",
       "      <th colspan=\"3\" halign=\"left\">PfHT_MMV12</th>\n",
       "      <th colspan=\"3\" halign=\"left\">PfHT_MMV8</th>\n",
       "      <th colspan=\"3\" halign=\"left\">W412A_MMV12</th>\n",
       "      <th colspan=\"3\" halign=\"left\">GLUT1_MMV12</th>\n",
       "    </tr>\n",
       "    <tr>\n",
       "      <th></th>\n",
       "      <th>replica 1</th>\n",
       "      <th>replica 2</th>\n",
       "      <th>replica 3</th>\n",
       "      <th>replica 1</th>\n",
       "      <th>replica 2</th>\n",
       "      <th>replica 3</th>\n",
       "      <th>replica 1</th>\n",
       "      <th>replica 2</th>\n",
       "      <th>replica 3</th>\n",
       "      <th>replica 1</th>\n",
       "      <th>replica 2</th>\n",
       "      <th>replica 3</th>\n",
       "    </tr>\n",
       "    <tr>\n",
       "      <th>interaction</th>\n",
       "      <th></th>\n",
       "      <th></th>\n",
       "      <th></th>\n",
       "      <th></th>\n",
       "      <th></th>\n",
       "      <th></th>\n",
       "      <th></th>\n",
       "      <th></th>\n",
       "      <th></th>\n",
       "      <th></th>\n",
       "      <th></th>\n",
       "      <th></th>\n",
       "    </tr>\n",
       "  </thead>\n",
       "  <tbody>\n",
       "    <tr>\n",
       "      <th>Contact</th>\n",
       "      <td>0.612388</td>\n",
       "      <td>0.115884</td>\n",
       "      <td>0.776224</td>\n",
       "      <td>0</td>\n",
       "      <td>0</td>\n",
       "      <td>0</td>\n",
       "      <td>0</td>\n",
       "      <td>0.105894</td>\n",
       "      <td>0.346756</td>\n",
       "      <td>0</td>\n",
       "      <td>0</td>\n",
       "      <td>0</td>\n",
       "    </tr>\n",
       "  </tbody>\n",
       "</table>\n",
       "</div>"
      ],
      "text/plain": [
       "            PfHT_MMV12                     PfHT_MMV8                      \\\n",
       "             replica 1 replica 2 replica 3 replica 1 replica 2 replica 3   \n",
       "interaction                                                                \n",
       "Contact       0.612388  0.115884  0.776224         0         0         0   \n",
       "\n",
       "            W412A_MMV12                     GLUT1_MMV12                      \n",
       "              replica 1 replica 2 replica 3   replica 1 replica 2 replica 3  \n",
       "interaction                                                                  \n",
       "Contact               0  0.105894  0.346756           0         0         0  "
      ]
     },
     "execution_count": 12,
     "metadata": {},
     "output_type": "execute_result"
    }
   ],
   "source": [
    "if show_only_contact:\n",
    "    intxn_index = {'Contact':[]}\n",
    "else:\n",
    "    intxn_index = {'HBAcceptor':[], 'HBDonor':[], 'VdWContact':[], 'PiStacking':[]}\n",
    "mean_intxn_all_conds = mean_intxn_all_conds.reindex(intxn_index).fillna(0)\n",
    "mean_intxn_all_conds"
   ]
  },
  {
   "attachments": {},
   "cell_type": "markdown",
   "metadata": {},
   "source": [
    "#### use `analysis_functions.process_df_wide` to make this into a long form dataframe"
   ]
  },
  {
   "cell_type": "code",
   "execution_count": 108,
   "metadata": {},
   "outputs": [],
   "source": [
    "mean_intxn_all_conds = analysis_functions.process_wide_df(\n",
    "    df=mean_intxn_all_conds,\n",
    "    index_col_name='interaction',\n",
    "    index_name='interaction',\n",
    "    top_level_melt_name='protein',\n",
    "    lower_level_melt_name='replica'\n",
    ")\n"
   ]
  },
  {
   "attachments": {},
   "cell_type": "markdown",
   "metadata": {},
   "source": [
    "#### plot in seaborn"
   ]
  },
  {
   "cell_type": "code",
   "execution_count": 109,
   "metadata": {},
   "outputs": [
    {
     "data": {
      "image/png": "[encoded data removed]",
      "text/plain": [
       "<Figure size 300x200 with 1 Axes>"
      ]
     },
     "metadata": {},
     "output_type": "display_data"
    }
   ],
   "source": [
    "with mpl.rc_context(figure_rc_params):\n",
    "    f,ax=plt.subplots(1,1, figsize=(3,2))\n",
    "    g = sns.barplot(data=mean_intxn_all_conds,\n",
    "                y='value', \n",
    "                x='interaction', \n",
    "                hue='protein',\n",
    "                ax=ax,\n",
    "                errorbar=None,\n",
    "                palette=color_l\n",
    "                )\n",
    "    g.legend_.remove()\n",
    "\n",
    "    sns.stripplot(\n",
    "        data=mean_intxn_all_conds,\n",
    "        y='value',\n",
    "        x='interaction',\n",
    "        hue='protein',\n",
    "        ax=ax,\n",
    "        dodge=True,\n",
    "        alpha=0.6,\n",
    "        edgecolor=\"black\",\n",
    "        linewidth=0.5,\n",
    "        legend=False,\n",
    "        size=8,\n",
    "        palette=color_l\n",
    "    )\n",
    "    ax.set_xticks(ax.get_xticks(), \n",
    "    ax.get_xticklabels(),\n",
    "    rotation=20,\n",
    "    fontsize=8,\n",
    "    )\n",
    "    ax.tick_params(axis='x', which='major', pad=0.2)\n",
    "    ax.set_xticks([])\n",
    "    ax.set_xlabel(None)\n",
    "\n",
    "    ax.set_ylim(0,1.05)\n",
    "    #ax.set_ylabel('Frequency of interaction', labelpad=0.002)\n",
    "    ax.set_ylabel(None)\n",
    "    #ax.set_yticks(ax.get_yticks(), np.array(ax.get_yticks()*100).astype(int))\n",
    "    ax.set_yticks([0,0.25,0.5,0.75,1], ['0%', '25%', '50%', '75%', '100%'])\n",
    "    \n",
    "    ax.spines[['right', 'top']].set_visible(False)\n",
    "    plt.subplots_adjust(bottom=0.2, left=0.2)\n",
    "\n",
    "    if show_only_contact:\n",
    "        plt.savefig(f'../../../images_paper/simulations/fingerprints/MMV/{crystal_or_em}.only_contact.{res}.svg')\n",
    "    else:\n",
    "        plt.savefig(f'../../../images_paper/simulations/fingerprints/MMV/{crystal_or_em}.by_type.{res}.svg')\n",
    "\n",
    "\n",
    "plt.show()"
   ]
  },
  {
   "attachments": {},
   "cell_type": "markdown",
   "metadata": {},
   "source": []
  },
  {
   "attachments": {},
   "cell_type": "markdown",
   "metadata": {},
   "source": [
    "Same above, combined so I can make all graphs at once. Obvi, should make a python script for this instead but I am not wanting to do this right now"
   ]
  },
  {
   "cell_type": "code",
   "execution_count": 33,
   "metadata": {},
   "outputs": [
    {
     "name": "stdout",
     "output_type": "stream",
     "text": [
      "W412\n"
     ]
    },
    {
     "data": {
      "image/png": "[encoded data removed]",
      "text/plain": [
       "<Figure size 300x200 with 1 Axes>"
      ]
     },
     "metadata": {},
     "output_type": "display_data"
    },
    {
     "name": "stdout",
     "output_type": "stream",
     "text": [
      "Q169\n"
     ]
    },
    {
     "data": {
      "image/png": "[encoded data removed]",
      "text/plain": [
       "<Figure size 300x200 with 1 Axes>"
      ]
     },
     "metadata": {},
     "output_type": "display_data"
    },
    {
     "name": "stdout",
     "output_type": "stream",
     "text": [
      "Q305\n"
     ]
    },
    {
     "data": {
      "image/png": "[encoded data removed]",
      "text/plain": [
       "<Figure size 300x200 with 1 Axes>"
      ]
     },
     "metadata": {},
     "output_type": "display_data"
    },
    {
     "name": "stdout",
     "output_type": "stream",
     "text": [
      "Q306\n"
     ]
    },
    {
     "data": {
      "image/png": "[encoded data removed]",
      "text/plain": [
       "<Figure size 300x200 with 1 Axes>"
      ]
     },
     "metadata": {},
     "output_type": "display_data"
    },
    {
     "name": "stdout",
     "output_type": "stream",
     "text": [
      "N341\n"
     ]
    },
    {
     "data": {
      "image/png": "[encoded data removed]",
      "text/plain": [
       "<Figure size 300x200 with 1 Axes>"
      ]
     },
     "metadata": {},
     "output_type": "display_data"
    },
    {
     "name": "stdout",
     "output_type": "stream",
     "text": [
      "N311\n"
     ]
    },
    {
     "data": {
      "image/png": "[encoded data removed]",
      "text/plain": [
       "<Figure size 300x200 with 1 Axes>"
      ]
     },
     "metadata": {},
     "output_type": "display_data"
    },
    {
     "name": "stdout",
     "output_type": "stream",
     "text": [
      "W436\n"
     ]
    },
    {
     "data": {
      "image/png": "[encoded data removed]",
      "text/plain": [
       "<Figure size 300x200 with 1 Axes>"
      ]
     },
     "metadata": {},
     "output_type": "display_data"
    },
    {
     "name": "stdout",
     "output_type": "stream",
     "text": [
      "A404\n"
     ]
    },
    {
     "data": {
      "image/png": "[encoded data removed]",
      "text/plain": [
       "<Figure size 300x200 with 1 Axes>"
      ]
     },
     "metadata": {},
     "output_type": "display_data"
    },
    {
     "name": "stdout",
     "output_type": "stream",
     "text": [
      "S315\n"
     ]
    },
    {
     "data": {
      "image/png": "[encoded data removed]",
      "text/plain": [
       "<Figure size 300x200 with 1 Axes>"
      ]
     },
     "metadata": {},
     "output_type": "display_data"
    },
    {
     "name": "stdout",
     "output_type": "stream",
     "text": [
      "S432\n"
     ]
    },
    {
     "data": {
      "image/png": "[encoded data removed]",
      "text/plain": [
       "<Figure size 300x200 with 1 Axes>"
      ]
     },
     "metadata": {},
     "output_type": "display_data"
    },
    {
     "name": "stdout",
     "output_type": "stream",
     "text": [
      "T173\n"
     ]
    },
    {
     "data": {
      "image/png": "[encoded data removed]",
      "text/plain": [
       "<Figure size 300x200 with 1 Axes>"
      ]
     },
     "metadata": {},
     "output_type": "display_data"
    },
    {
     "name": "stdout",
     "output_type": "stream",
     "text": [
      "L411\n"
     ]
    },
    {
     "data": {
      "image/png": "[encoded data removed]",
      "text/plain": [
       "<Figure size 300x200 with 1 Axes>"
      ]
     },
     "metadata": {},
     "output_type": "display_data"
    }
   ],
   "source": [
    "\n",
    "for res in res_map.keys():\n",
    "\n",
    "\n",
    "\n",
    "    show_only_contact = True\n",
    "\n",
    "    if show_only_contact:\n",
    "        mean_intxn_all_conds = wide_df_of_reps_conds(\n",
    "                                                    resname=res,\n",
    "                                                    sim_list=sim_list,\n",
    "                                                    all_fp_dfs=all_fp_dfs,\n",
    "                                                    by_type_or_combined='combined'\n",
    "                                                )\n",
    "    else:\n",
    "        mean_intxn_all_conds = wide_df_of_reps_conds(\n",
    "                                                    resname=res,\n",
    "                                                    sim_list=sim_list,\n",
    "                                                    all_fp_dfs=all_fp_dfs,\n",
    "                                                    by_type_or_combined='by_type'\n",
    "                                                )\n",
    "\n",
    "\n",
    "\n",
    "\n",
    "\n",
    "    if show_only_contact:\n",
    "        intxn_index = {'Contact':[]}\n",
    "    else:\n",
    "        intxn_index = {'HBAcceptor':[], 'HBDonor':[], 'VdWContact':[], 'PiStacking':[]}\n",
    "    mean_intxn_all_conds = mean_intxn_all_conds.reindex(intxn_index).fillna(0)\n",
    "\n",
    "\n",
    "\n",
    "\n",
    "\n",
    "\n",
    "    mean_intxn_all_conds = analysis_functions.process_wide_df(\n",
    "        df=mean_intxn_all_conds,\n",
    "        index_col_name='interaction',\n",
    "        index_name='interaction',\n",
    "        top_level_melt_name='protein',\n",
    "        lower_level_melt_name='replica'\n",
    "    )\n",
    "\n",
    "\n",
    "\n",
    "    with mpl.rc_context(figure_rc_params):\n",
    "        f,ax=plt.subplots(1,1, figsize=(3,2))\n",
    "        g = sns.barplot(data=mean_intxn_all_conds,\n",
    "                    y='value', \n",
    "                    x='interaction', \n",
    "                    hue='protein',\n",
    "                    ax=ax,\n",
    "                    errorbar=None,\n",
    "                    palette=color_l\n",
    "                    )\n",
    "        g.legend_.remove()\n",
    "\n",
    "        sns.stripplot(\n",
    "            data=mean_intxn_all_conds,\n",
    "            y='value',\n",
    "            x='interaction',\n",
    "            hue='protein',\n",
    "            ax=ax,\n",
    "            dodge=True,\n",
    "            alpha=0.6,\n",
    "            edgecolor=\"black\",\n",
    "            linewidth=0.5,\n",
    "            legend=False,\n",
    "            size=8,\n",
    "            palette=color_l\n",
    "        )\n",
    "        ax.set_xticks(ax.get_xticks(), \n",
    "        ax.get_xticklabels(),\n",
    "        rotation=20,\n",
    "        fontsize=8,\n",
    "        )\n",
    "        ax.tick_params(axis='x', which='major', pad=0.2)\n",
    "        ax.set_xticks([])\n",
    "        ax.set_xlabel(None)\n",
    "\n",
    "        ax.set_ylim(0,1.05)\n",
    "        #ax.set_ylabel('Frequency of interaction', labelpad=0.002)\n",
    "        ax.set_ylabel(None)\n",
    "        #ax.set_yticks(ax.get_yticks(), np.array(ax.get_yticks()*100).astype(int))\n",
    "        ax.set_yticks([0,0.25,0.5,0.75,1], ['0%', '25%', '50%', '75%', '100%'])\n",
    "        \n",
    "        ax.spines[['right', 'top']].set_visible(False)\n",
    "        plt.subplots_adjust(bottom=0.2, left=0.2)\n",
    "\n",
    "        if show_only_contact:\n",
    "            plt.savefig(f'../../../images_paper/simulations/fingerprints/3361/{crystal_or_em}.only_contact.with_vdw.{res}.svg')\n",
    "        else:\n",
    "            plt.savefig(f'../../../images_paper/simulations/fingerprints/3361/{crystal_or_em}.by_type.{res}.svg')\n",
    "\n",
    "    print(res)\n",
    "    plt.show()"
   ]
  },
  {
   "cell_type": "code",
   "execution_count": null,
   "metadata": {},
   "outputs": [],
   "source": []
  }
 ],
 "metadata": {
  "kernelspec": {
   "display_name": "prolif",
   "language": "python",
   "name": "python3"
  },
  "language_info": {
   "codemirror_mode": {
    "name": "ipython",
    "version": 3
   },
   "file_extension": ".py",
   "mimetype": "text/x-python",
   "name": "python",
   "nbconvert_exporter": "python",
   "pygments_lexer": "ipython3",
   "version": "3.9.16"
  },
  "orig_nbformat": 4
 },
 "nbformat": 4,
 "nbformat_minor": 2
}
