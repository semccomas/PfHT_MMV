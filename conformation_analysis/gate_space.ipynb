{
 "cells": [
  {
   "attachments": {},
   "cell_type": "markdown",
   "metadata": {},
   "source": [
    "Here we will look at how the simulations project in typical IC / EC gate space"
   ]
  },
  {
   "cell_type": "code",
   "execution_count": 1,
   "metadata": {},
   "outputs": [],
   "source": [
    "import matplotlib.pyplot as plt\n",
    "import MDAnalysis as mda\n",
    "import matplotlib as mpl\n",
    "import numpy as np\n",
    "from MDAnalysis.analysis import distances as d\n",
    "\n",
    "import sys\n",
    "sys.path.append('../') ## to get src lib\n",
    "import src.analysis_functions as analysis_functions\n",
    "import src.simulation_metadata as sims\n",
    "from src.figure_parameters import figure_rc_params\n"
   ]
  },
  {
   "cell_type": "code",
   "execution_count": 2,
   "metadata": {},
   "outputs": [],
   "source": [
    "sim_list = [sims.PfHT_MMV12]\n",
    "color_l = [sim.color for sim in sim_list]\n",
    "\n",
    "sim = sim_list[0]\n",
    "\n",
    "all_unis, all_lens = analysis_functions.load_unis(\n",
    "    sim_list= sim_list\n",
    ")\n",
    "\n",
    "## can add 22 to resids here, so that we don't have to do counting!! Amazing\n",
    "for sim in sim_list:\n",
    "    for u_rep in all_unis[sim.name]:\n",
    "        u_rep.add_TopologyAttr('resid', list(range(22, len(u_rep.residues)+22)))\n",
    "\n"
   ]
  },
  {
   "cell_type": "code",
   "execution_count": 6,
   "metadata": {},
   "outputs": [],
   "source": [
    "def get_gate_arr(\n",
    "        sim: sims.SimulationMetadata,\n",
    "        tm1_s: str='resid 44-49',\n",
    "        tm7_s: str='resid 310-318',\n",
    "        tm4_s: str='resid 145-153',\n",
    "        tm10_s: str='resid 409-416',\n",
    "        com: bool=True,\n",
    ") -> np.array:\n",
    "    ''' \n",
    "    calculate minimum distance between either all atoms in gate (com=False)\n",
    "    or the min distance between centers of mass \n",
    "    return a np array with shape [n_replicas, 2, n_frames]\n",
    "    where array[n,:,0] is ic gate and array[n,:,1] is ec gate    \n",
    "    '''\n",
    "\n",
    "    dists = np.zeros((sim.n_replicas,2000,2))\n",
    "    dists[:] = np.nan\n",
    "\n",
    "    for n,u_rep in enumerate(all_unis[sim.name]):\n",
    "        tm1 = u_rep.select_atoms(tm1_s)\n",
    "        tm7 = u_rep.select_atoms(tm7_s)\n",
    "        tm4 = u_rep.select_atoms(tm4_s)\n",
    "        tm10 = u_rep.select_atoms(tm10_s)\n",
    "\n",
    "        for ts in u_rep.trajectory:\n",
    "            if com:\n",
    "                tm1_d = tm1.center_of_mass()\n",
    "                tm7_d = tm7.center_of_mass()\n",
    "                tm4_d = tm4.center_of_mass()\n",
    "                tm10_d = tm10.center_of_mass()\n",
    "            else:\n",
    "                tm1_d = tm1.positions\n",
    "                tm7_d = tm7.positions\n",
    "                tm4_d = tm4.positions\n",
    "                tm10_d = tm10.positions\n",
    "\n",
    "            ec_gate = np.min(d.distance_array(tm1_d, tm7_d))\n",
    "            ic_gate = np.min(d.distance_array(tm4_d, tm10_d))\n",
    "            dists[n,ts.frame,0] = ic_gate\n",
    "            dists[n,ts.frame,1] = ec_gate\n",
    "    \n",
    "    return dists\n",
    "\n"
   ]
  },
  {
   "cell_type": "code",
   "execution_count": 12,
   "metadata": {},
   "outputs": [
    {
     "data": {
      "text/plain": [
       "(7.0, 18.0)"
      ]
     },
     "execution_count": 12,
     "metadata": {},
     "output_type": "execute_result"
    },
    {
     "data": {
      "image/png": "[encoded data removed]",
      "text/plain": [
       "<Figure size 640x480 with 1 Axes>"
      ]
     },
     "metadata": {},
     "output_type": "display_data"
    }
   ],
   "source": [
    "dists = get_gate_arr(sim, \n",
    "                     com=True)\n",
    "\n",
    "f,ax = plt.subplots(1,1)\n",
    "\n",
    "for rep in dists:\n",
    "    ax.scatter(rep[:,0], rep[:,1])\n",
    "\n",
    "ax.set_xlim(7, 18)\n",
    "ax.set_ylim(7, 18)"
   ]
  },
  {
   "cell_type": "code",
   "execution_count": null,
   "metadata": {},
   "outputs": [],
   "source": []
  }
 ],
 "metadata": {
  "kernelspec": {
   "display_name": "prolif",
   "language": "python",
   "name": "python3"
  },
  "language_info": {
   "codemirror_mode": {
    "name": "ipython",
    "version": 3
   },
   "file_extension": ".py",
   "mimetype": "text/x-python",
   "name": "python",
   "nbconvert_exporter": "python",
   "pygments_lexer": "ipython3",
   "version": "3.9.16"
  },
  "orig_nbformat": 4
 },
 "nbformat": 4,
 "nbformat_minor": 2
}
